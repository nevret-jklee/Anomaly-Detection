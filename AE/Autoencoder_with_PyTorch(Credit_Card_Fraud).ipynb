{
  "nbformat": 4,
  "nbformat_minor": 0,
  "metadata": {
    "colab": {
      "name": "Autoencoder with PyTorch(Credit Card Fraud).ipynb",
      "provenance": []
    },
    "kernelspec": {
      "name": "python3",
      "display_name": "Python 3"
    },
    "widgets": {
      "application/vnd.jupyter.widget-state+json": {
        "88aeb0f820bc4b86887ccad7f4b71424": {
          "model_module": "@jupyter-widgets/controls",
          "model_name": "HBoxModel",
          "state": {
            "_view_name": "HBoxView",
            "_dom_classes": [],
            "_model_name": "HBoxModel",
            "_view_module": "@jupyter-widgets/controls",
            "_model_module_version": "1.5.0",
            "_view_count": null,
            "_view_module_version": "1.5.0",
            "box_style": "",
            "layout": "IPY_MODEL_585210576661470aa3fc22c614fd3e92",
            "_model_module": "@jupyter-widgets/controls",
            "children": [
              "IPY_MODEL_6b50cf9305a1467bb65895cddf6aca6b",
              "IPY_MODEL_c1f0106cb6904b14934535f2ad1d5295"
            ]
          }
        },
        "585210576661470aa3fc22c614fd3e92": {
          "model_module": "@jupyter-widgets/base",
          "model_name": "LayoutModel",
          "state": {
            "_view_name": "LayoutView",
            "grid_template_rows": null,
            "right": null,
            "justify_content": null,
            "_view_module": "@jupyter-widgets/base",
            "overflow": null,
            "_model_module_version": "1.2.0",
            "_view_count": null,
            "flex_flow": null,
            "width": null,
            "min_width": null,
            "border": null,
            "align_items": null,
            "bottom": null,
            "_model_module": "@jupyter-widgets/base",
            "top": null,
            "grid_column": null,
            "overflow_y": null,
            "overflow_x": null,
            "grid_auto_flow": null,
            "grid_area": null,
            "grid_template_columns": null,
            "flex": null,
            "_model_name": "LayoutModel",
            "justify_items": null,
            "grid_row": null,
            "max_height": null,
            "align_content": null,
            "visibility": null,
            "align_self": null,
            "height": null,
            "min_height": null,
            "padding": null,
            "grid_auto_rows": null,
            "grid_gap": null,
            "max_width": null,
            "order": null,
            "_view_module_version": "1.2.0",
            "grid_template_areas": null,
            "object_position": null,
            "object_fit": null,
            "grid_auto_columns": null,
            "margin": null,
            "display": null,
            "left": null
          }
        },
        "6b50cf9305a1467bb65895cddf6aca6b": {
          "model_module": "@jupyter-widgets/controls",
          "model_name": "IntProgressModel",
          "state": {
            "_view_name": "ProgressView",
            "style": "IPY_MODEL_31a83f57acd842bd8944e0b2ad658118",
            "_dom_classes": [],
            "description": "",
            "_model_name": "IntProgressModel",
            "bar_style": "success",
            "max": 100,
            "_view_module": "@jupyter-widgets/controls",
            "_model_module_version": "1.5.0",
            "value": 100,
            "_view_count": null,
            "_view_module_version": "1.5.0",
            "orientation": "horizontal",
            "min": 0,
            "description_tooltip": null,
            "_model_module": "@jupyter-widgets/controls",
            "layout": "IPY_MODEL_235acfcc2e594c9999c5ed19a3e77c97"
          }
        },
        "c1f0106cb6904b14934535f2ad1d5295": {
          "model_module": "@jupyter-widgets/controls",
          "model_name": "HTMLModel",
          "state": {
            "_view_name": "HTMLView",
            "style": "IPY_MODEL_5d711e1cd57d4078946b20abcdd6434c",
            "_dom_classes": [],
            "description": "",
            "_model_name": "HTMLModel",
            "placeholder": "​",
            "_view_module": "@jupyter-widgets/controls",
            "_model_module_version": "1.5.0",
            "value": "100% 100/100 [02:34&lt;00:00,  1.54s/it]",
            "_view_count": null,
            "_view_module_version": "1.5.0",
            "description_tooltip": null,
            "_model_module": "@jupyter-widgets/controls",
            "layout": "IPY_MODEL_8692ad7006a14c3cb26ccf0b0ade7ba5"
          }
        },
        "31a83f57acd842bd8944e0b2ad658118": {
          "model_module": "@jupyter-widgets/controls",
          "model_name": "ProgressStyleModel",
          "state": {
            "_view_name": "StyleView",
            "_model_name": "ProgressStyleModel",
            "description_width": "",
            "_view_module": "@jupyter-widgets/base",
            "_model_module_version": "1.5.0",
            "_view_count": null,
            "_view_module_version": "1.2.0",
            "bar_color": null,
            "_model_module": "@jupyter-widgets/controls"
          }
        },
        "235acfcc2e594c9999c5ed19a3e77c97": {
          "model_module": "@jupyter-widgets/base",
          "model_name": "LayoutModel",
          "state": {
            "_view_name": "LayoutView",
            "grid_template_rows": null,
            "right": null,
            "justify_content": null,
            "_view_module": "@jupyter-widgets/base",
            "overflow": null,
            "_model_module_version": "1.2.0",
            "_view_count": null,
            "flex_flow": null,
            "width": null,
            "min_width": null,
            "border": null,
            "align_items": null,
            "bottom": null,
            "_model_module": "@jupyter-widgets/base",
            "top": null,
            "grid_column": null,
            "overflow_y": null,
            "overflow_x": null,
            "grid_auto_flow": null,
            "grid_area": null,
            "grid_template_columns": null,
            "flex": null,
            "_model_name": "LayoutModel",
            "justify_items": null,
            "grid_row": null,
            "max_height": null,
            "align_content": null,
            "visibility": null,
            "align_self": null,
            "height": null,
            "min_height": null,
            "padding": null,
            "grid_auto_rows": null,
            "grid_gap": null,
            "max_width": null,
            "order": null,
            "_view_module_version": "1.2.0",
            "grid_template_areas": null,
            "object_position": null,
            "object_fit": null,
            "grid_auto_columns": null,
            "margin": null,
            "display": null,
            "left": null
          }
        },
        "5d711e1cd57d4078946b20abcdd6434c": {
          "model_module": "@jupyter-widgets/controls",
          "model_name": "DescriptionStyleModel",
          "state": {
            "_view_name": "StyleView",
            "_model_name": "DescriptionStyleModel",
            "description_width": "",
            "_view_module": "@jupyter-widgets/base",
            "_model_module_version": "1.5.0",
            "_view_count": null,
            "_view_module_version": "1.2.0",
            "_model_module": "@jupyter-widgets/controls"
          }
        },
        "8692ad7006a14c3cb26ccf0b0ade7ba5": {
          "model_module": "@jupyter-widgets/base",
          "model_name": "LayoutModel",
          "state": {
            "_view_name": "LayoutView",
            "grid_template_rows": null,
            "right": null,
            "justify_content": null,
            "_view_module": "@jupyter-widgets/base",
            "overflow": null,
            "_model_module_version": "1.2.0",
            "_view_count": null,
            "flex_flow": null,
            "width": null,
            "min_width": null,
            "border": null,
            "align_items": null,
            "bottom": null,
            "_model_module": "@jupyter-widgets/base",
            "top": null,
            "grid_column": null,
            "overflow_y": null,
            "overflow_x": null,
            "grid_auto_flow": null,
            "grid_area": null,
            "grid_template_columns": null,
            "flex": null,
            "_model_name": "LayoutModel",
            "justify_items": null,
            "grid_row": null,
            "max_height": null,
            "align_content": null,
            "visibility": null,
            "align_self": null,
            "height": null,
            "min_height": null,
            "padding": null,
            "grid_auto_rows": null,
            "grid_gap": null,
            "max_width": null,
            "order": null,
            "_view_module_version": "1.2.0",
            "grid_template_areas": null,
            "object_position": null,
            "object_fit": null,
            "grid_auto_columns": null,
            "margin": null,
            "display": null,
            "left": null
          }
        }
      }
    }
  },
  "cells": [
    {
      "cell_type": "code",
      "metadata": {
        "id": "P1VrKFhfMuhC",
        "colab_type": "code",
        "colab": {
          "resources": {
            "http://localhost:8080/nbextensions/google.colab/files.js": {
              "data": "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",
              "ok": true,
              "headers": [
                [
                  "content-type",
                  "application/javascript"
                ]
              ],
              "status": 200,
              "status_text": ""
            }
          },
          "base_uri": "https://localhost:8080/",
          "height": 294
        },
        "outputId": "0e4c5b0a-c380-4536-c41a-34ba61868921"
      },
      "source": [
        "!pip install kaggle\n",
        "from google.colab import files\n",
        "files.upload()"
      ],
      "execution_count": 4,
      "outputs": [
        {
          "output_type": "stream",
          "text": [
            "Requirement already satisfied: kaggle in /usr/local/lib/python3.6/dist-packages (1.5.6)\n",
            "Requirement already satisfied: python-slugify in /usr/local/lib/python3.6/dist-packages (from kaggle) (4.0.0)\n",
            "Requirement already satisfied: six>=1.10 in /usr/local/lib/python3.6/dist-packages (from kaggle) (1.12.0)\n",
            "Requirement already satisfied: tqdm in /usr/local/lib/python3.6/dist-packages (from kaggle) (4.28.1)\n",
            "Requirement already satisfied: certifi in /usr/local/lib/python3.6/dist-packages (from kaggle) (2019.11.28)\n",
            "Requirement already satisfied: requests in /usr/local/lib/python3.6/dist-packages (from kaggle) (2.21.0)\n",
            "Requirement already satisfied: python-dateutil in /usr/local/lib/python3.6/dist-packages (from kaggle) (2.6.1)\n",
            "Requirement already satisfied: urllib3<1.25,>=1.21.1 in /usr/local/lib/python3.6/dist-packages (from kaggle) (1.24.3)\n",
            "Requirement already satisfied: text-unidecode>=1.3 in /usr/local/lib/python3.6/dist-packages (from python-slugify->kaggle) (1.3)\n",
            "Requirement already satisfied: chardet<3.1.0,>=3.0.2 in /usr/local/lib/python3.6/dist-packages (from requests->kaggle) (3.0.4)\n",
            "Requirement already satisfied: idna<2.9,>=2.5 in /usr/local/lib/python3.6/dist-packages (from requests->kaggle) (2.8)\n"
          ],
          "name": "stdout"
        },
        {
          "output_type": "display_data",
          "data": {
            "text/html": [
              "\n",
              "     <input type=\"file\" id=\"files-fcccb71a-e3b9-424c-afe6-859e90e3efc4\" name=\"files[]\" multiple disabled />\n",
              "     <output id=\"result-fcccb71a-e3b9-424c-afe6-859e90e3efc4\">\n",
              "      Upload widget is only available when the cell has been executed in the\n",
              "      current browser session. Please rerun this cell to enable.\n",
              "      </output>\n",
              "      <script src=\"/nbextensions/google.colab/files.js\"></script> "
            ],
            "text/plain": [
              "<IPython.core.display.HTML object>"
            ]
          },
          "metadata": {
            "tags": []
          }
        },
        {
          "output_type": "stream",
          "text": [
            "Saving kaggle.json to kaggle.json\n"
          ],
          "name": "stdout"
        },
        {
          "output_type": "execute_result",
          "data": {
            "text/plain": [
              "{'kaggle.json': b'{\"username\":\"nevret93\",\"key\":\"02828d578cd0ace8e5bf51cf06cb0c63\"}'}"
            ]
          },
          "metadata": {
            "tags": []
          },
          "execution_count": 4
        }
      ]
    },
    {
      "cell_type": "code",
      "metadata": {
        "id": "4wxplNkRN0AT",
        "colab_type": "code",
        "colab": {
          "base_uri": "https://localhost:8080/",
          "height": 35
        },
        "outputId": "1f75817b-9cc8-44cb-a74f-c81af5aa4122"
      },
      "source": [
        "ls -1ha kaggle.json"
      ],
      "execution_count": 5,
      "outputs": [
        {
          "output_type": "stream",
          "text": [
            "kaggle.json\n"
          ],
          "name": "stdout"
        }
      ]
    },
    {
      "cell_type": "code",
      "metadata": {
        "id": "jqcWla8fR18F",
        "colab_type": "code",
        "colab": {}
      },
      "source": [
        "!mkdir -p ~/.kaggle\n",
        "!cp kaggle.json ~/.kaggle/\n",
        "\n",
        "# Permission Warning이 일어나지 않도록\n",
        "!chmod 600 ~/.kaggle/kaggle.json"
      ],
      "execution_count": 0,
      "outputs": []
    },
    {
      "cell_type": "markdown",
      "metadata": {
        "id": "SENT8_shTJhT",
        "colab_type": "text"
      },
      "source": [
        "## Credit card fraud"
      ]
    },
    {
      "cell_type": "code",
      "metadata": {
        "id": "OZWE9FAqS1gX",
        "colab_type": "code",
        "colab": {
          "base_uri": "https://localhost:8080/",
          "height": 71
        },
        "outputId": "e82e1150-8bd5-487e-b24b-fcadc3dd5941"
      },
      "source": [
        "!kaggle datasets download -d mlg-ulb/creditcardfraud"
      ],
      "execution_count": 7,
      "outputs": [
        {
          "output_type": "stream",
          "text": [
            "Downloading creditcardfraud.zip to /content\n",
            " 97% 64.0M/66.0M [00:00<00:00, 63.0MB/s]\n",
            "100% 66.0M/66.0M [00:00<00:00, 84.7MB/s]\n"
          ],
          "name": "stdout"
        }
      ]
    },
    {
      "cell_type": "code",
      "metadata": {
        "id": "QPCzv0kUTF60",
        "colab_type": "code",
        "colab": {
          "base_uri": "https://localhost:8080/",
          "height": 35
        },
        "outputId": "8159c825-4a3e-47d7-aca2-55c2b267aa29"
      },
      "source": [
        "!ls"
      ],
      "execution_count": 8,
      "outputs": [
        {
          "output_type": "stream",
          "text": [
            "creditcardfraud.zip  kaggle.json  sample_data\n"
          ],
          "name": "stdout"
        }
      ]
    },
    {
      "cell_type": "code",
      "metadata": {
        "id": "eswvS5jyTQPU",
        "colab_type": "code",
        "colab": {
          "base_uri": "https://localhost:8080/",
          "height": 53
        },
        "outputId": "df2d1d49-d427-44cc-da9c-d0b254c3b32b"
      },
      "source": [
        "!unzip creditcardfraud"
      ],
      "execution_count": 9,
      "outputs": [
        {
          "output_type": "stream",
          "text": [
            "Archive:  creditcardfraud.zip\n",
            "  inflating: creditcard.csv          \n"
          ],
          "name": "stdout"
        }
      ]
    },
    {
      "cell_type": "markdown",
      "metadata": {
        "id": "eGs4dsxFTTjb",
        "colab_type": "text"
      },
      "source": [
        "---"
      ]
    },
    {
      "cell_type": "code",
      "metadata": {
        "id": "vLywM7TvUkmE",
        "colab_type": "code",
        "colab": {}
      },
      "source": [
        "import os\n",
        "\n",
        "import pandas as pd\n",
        "import numpy as np\n",
        "import seaborn as sns\n",
        "import collections\n",
        "from tqdm import tqdm, tqdm_notebook\n",
        "\n",
        "# PyTorch Packages\n",
        "import torch.nn as nn\n",
        "from torch.autograd import Variable as V\n",
        "import torch.nn.functional as F\n",
        "import torch\n",
        "from torch.utils.data import DataLoader\n",
        "\n",
        "# SKLearn Packages\n",
        "from sklearn.preprocessing import StandardScaler\n",
        "from sklearn.model_selection import train_test_split\n",
        "from sklearn.metrics import roc_auc_score\n",
        "from sklearn.metrics import (confusion_matrix, precision_recall_curve, auc,\n",
        "                             roc_curve, recall_score, classification_report, f1_score)\n",
        "from sklearn.metrics import accuracy_score, precision_score\n",
        "\n",
        "# Plotting packages\n",
        "import matplotlib.pyplot as plt\n",
        "%matplotlib inline\n",
        "from bokeh.plotting import figure, output_notebook, show, ColumnDataSource\n",
        "from bokeh.models import HoverTool, NumeralTickFormatter\n",
        "from bokeh.palettes import Set3_12\n",
        "from bokeh.transform import jitter"
      ],
      "execution_count": 0,
      "outputs": []
    },
    {
      "cell_type": "code",
      "metadata": {
        "id": "hD7XAvvAbkX6",
        "colab_type": "code",
        "colab": {}
      },
      "source": [
        "output_notebook()"
      ],
      "execution_count": 0,
      "outputs": []
    },
    {
      "cell_type": "code",
      "metadata": {
        "id": "86Dl6pRqUlCs",
        "colab_type": "code",
        "colab": {}
      },
      "source": [
        "df = pd.read_csv('creditcard.csv')"
      ],
      "execution_count": 0,
      "outputs": []
    },
    {
      "cell_type": "code",
      "metadata": {
        "id": "lWSQSZV9WHyj",
        "colab_type": "code",
        "colab": {
          "base_uri": "https://localhost:8080/",
          "height": 224
        },
        "outputId": "7ff45075-0ed4-4ed3-ba09-f8eec8b38ccf"
      },
      "source": [
        "df.head()"
      ],
      "execution_count": 22,
      "outputs": [
        {
          "output_type": "execute_result",
          "data": {
            "text/html": [
              "<div>\n",
              "<style scoped>\n",
              "    .dataframe tbody tr th:only-of-type {\n",
              "        vertical-align: middle;\n",
              "    }\n",
              "\n",
              "    .dataframe tbody tr th {\n",
              "        vertical-align: top;\n",
              "    }\n",
              "\n",
              "    .dataframe thead th {\n",
              "        text-align: right;\n",
              "    }\n",
              "</style>\n",
              "<table border=\"1\" class=\"dataframe\">\n",
              "  <thead>\n",
              "    <tr style=\"text-align: right;\">\n",
              "      <th></th>\n",
              "      <th>Time</th>\n",
              "      <th>V1</th>\n",
              "      <th>V2</th>\n",
              "      <th>V3</th>\n",
              "      <th>V4</th>\n",
              "      <th>V5</th>\n",
              "      <th>V6</th>\n",
              "      <th>V7</th>\n",
              "      <th>V8</th>\n",
              "      <th>V9</th>\n",
              "      <th>V10</th>\n",
              "      <th>V11</th>\n",
              "      <th>V12</th>\n",
              "      <th>V13</th>\n",
              "      <th>V14</th>\n",
              "      <th>V15</th>\n",
              "      <th>V16</th>\n",
              "      <th>V17</th>\n",
              "      <th>V18</th>\n",
              "      <th>V19</th>\n",
              "      <th>V20</th>\n",
              "      <th>V21</th>\n",
              "      <th>V22</th>\n",
              "      <th>V23</th>\n",
              "      <th>V24</th>\n",
              "      <th>V25</th>\n",
              "      <th>V26</th>\n",
              "      <th>V27</th>\n",
              "      <th>V28</th>\n",
              "      <th>Amount</th>\n",
              "      <th>Class</th>\n",
              "    </tr>\n",
              "  </thead>\n",
              "  <tbody>\n",
              "    <tr>\n",
              "      <th>0</th>\n",
              "      <td>0.0</td>\n",
              "      <td>-1.359807</td>\n",
              "      <td>-0.072781</td>\n",
              "      <td>2.536347</td>\n",
              "      <td>1.378155</td>\n",
              "      <td>-0.338321</td>\n",
              "      <td>0.462388</td>\n",
              "      <td>0.239599</td>\n",
              "      <td>0.098698</td>\n",
              "      <td>0.363787</td>\n",
              "      <td>0.090794</td>\n",
              "      <td>-0.551600</td>\n",
              "      <td>-0.617801</td>\n",
              "      <td>-0.991390</td>\n",
              "      <td>-0.311169</td>\n",
              "      <td>1.468177</td>\n",
              "      <td>-0.470401</td>\n",
              "      <td>0.207971</td>\n",
              "      <td>0.025791</td>\n",
              "      <td>0.403993</td>\n",
              "      <td>0.251412</td>\n",
              "      <td>-0.018307</td>\n",
              "      <td>0.277838</td>\n",
              "      <td>-0.110474</td>\n",
              "      <td>0.066928</td>\n",
              "      <td>0.128539</td>\n",
              "      <td>-0.189115</td>\n",
              "      <td>0.133558</td>\n",
              "      <td>-0.021053</td>\n",
              "      <td>149.62</td>\n",
              "      <td>0</td>\n",
              "    </tr>\n",
              "    <tr>\n",
              "      <th>1</th>\n",
              "      <td>0.0</td>\n",
              "      <td>1.191857</td>\n",
              "      <td>0.266151</td>\n",
              "      <td>0.166480</td>\n",
              "      <td>0.448154</td>\n",
              "      <td>0.060018</td>\n",
              "      <td>-0.082361</td>\n",
              "      <td>-0.078803</td>\n",
              "      <td>0.085102</td>\n",
              "      <td>-0.255425</td>\n",
              "      <td>-0.166974</td>\n",
              "      <td>1.612727</td>\n",
              "      <td>1.065235</td>\n",
              "      <td>0.489095</td>\n",
              "      <td>-0.143772</td>\n",
              "      <td>0.635558</td>\n",
              "      <td>0.463917</td>\n",
              "      <td>-0.114805</td>\n",
              "      <td>-0.183361</td>\n",
              "      <td>-0.145783</td>\n",
              "      <td>-0.069083</td>\n",
              "      <td>-0.225775</td>\n",
              "      <td>-0.638672</td>\n",
              "      <td>0.101288</td>\n",
              "      <td>-0.339846</td>\n",
              "      <td>0.167170</td>\n",
              "      <td>0.125895</td>\n",
              "      <td>-0.008983</td>\n",
              "      <td>0.014724</td>\n",
              "      <td>2.69</td>\n",
              "      <td>0</td>\n",
              "    </tr>\n",
              "    <tr>\n",
              "      <th>2</th>\n",
              "      <td>1.0</td>\n",
              "      <td>-1.358354</td>\n",
              "      <td>-1.340163</td>\n",
              "      <td>1.773209</td>\n",
              "      <td>0.379780</td>\n",
              "      <td>-0.503198</td>\n",
              "      <td>1.800499</td>\n",
              "      <td>0.791461</td>\n",
              "      <td>0.247676</td>\n",
              "      <td>-1.514654</td>\n",
              "      <td>0.207643</td>\n",
              "      <td>0.624501</td>\n",
              "      <td>0.066084</td>\n",
              "      <td>0.717293</td>\n",
              "      <td>-0.165946</td>\n",
              "      <td>2.345865</td>\n",
              "      <td>-2.890083</td>\n",
              "      <td>1.109969</td>\n",
              "      <td>-0.121359</td>\n",
              "      <td>-2.261857</td>\n",
              "      <td>0.524980</td>\n",
              "      <td>0.247998</td>\n",
              "      <td>0.771679</td>\n",
              "      <td>0.909412</td>\n",
              "      <td>-0.689281</td>\n",
              "      <td>-0.327642</td>\n",
              "      <td>-0.139097</td>\n",
              "      <td>-0.055353</td>\n",
              "      <td>-0.059752</td>\n",
              "      <td>378.66</td>\n",
              "      <td>0</td>\n",
              "    </tr>\n",
              "    <tr>\n",
              "      <th>3</th>\n",
              "      <td>1.0</td>\n",
              "      <td>-0.966272</td>\n",
              "      <td>-0.185226</td>\n",
              "      <td>1.792993</td>\n",
              "      <td>-0.863291</td>\n",
              "      <td>-0.010309</td>\n",
              "      <td>1.247203</td>\n",
              "      <td>0.237609</td>\n",
              "      <td>0.377436</td>\n",
              "      <td>-1.387024</td>\n",
              "      <td>-0.054952</td>\n",
              "      <td>-0.226487</td>\n",
              "      <td>0.178228</td>\n",
              "      <td>0.507757</td>\n",
              "      <td>-0.287924</td>\n",
              "      <td>-0.631418</td>\n",
              "      <td>-1.059647</td>\n",
              "      <td>-0.684093</td>\n",
              "      <td>1.965775</td>\n",
              "      <td>-1.232622</td>\n",
              "      <td>-0.208038</td>\n",
              "      <td>-0.108300</td>\n",
              "      <td>0.005274</td>\n",
              "      <td>-0.190321</td>\n",
              "      <td>-1.175575</td>\n",
              "      <td>0.647376</td>\n",
              "      <td>-0.221929</td>\n",
              "      <td>0.062723</td>\n",
              "      <td>0.061458</td>\n",
              "      <td>123.50</td>\n",
              "      <td>0</td>\n",
              "    </tr>\n",
              "    <tr>\n",
              "      <th>4</th>\n",
              "      <td>2.0</td>\n",
              "      <td>-1.158233</td>\n",
              "      <td>0.877737</td>\n",
              "      <td>1.548718</td>\n",
              "      <td>0.403034</td>\n",
              "      <td>-0.407193</td>\n",
              "      <td>0.095921</td>\n",
              "      <td>0.592941</td>\n",
              "      <td>-0.270533</td>\n",
              "      <td>0.817739</td>\n",
              "      <td>0.753074</td>\n",
              "      <td>-0.822843</td>\n",
              "      <td>0.538196</td>\n",
              "      <td>1.345852</td>\n",
              "      <td>-1.119670</td>\n",
              "      <td>0.175121</td>\n",
              "      <td>-0.451449</td>\n",
              "      <td>-0.237033</td>\n",
              "      <td>-0.038195</td>\n",
              "      <td>0.803487</td>\n",
              "      <td>0.408542</td>\n",
              "      <td>-0.009431</td>\n",
              "      <td>0.798278</td>\n",
              "      <td>-0.137458</td>\n",
              "      <td>0.141267</td>\n",
              "      <td>-0.206010</td>\n",
              "      <td>0.502292</td>\n",
              "      <td>0.219422</td>\n",
              "      <td>0.215153</td>\n",
              "      <td>69.99</td>\n",
              "      <td>0</td>\n",
              "    </tr>\n",
              "  </tbody>\n",
              "</table>\n",
              "</div>"
            ],
            "text/plain": [
              "   Time        V1        V2        V3  ...       V27       V28  Amount  Class\n",
              "0   0.0 -1.359807 -0.072781  2.536347  ...  0.133558 -0.021053  149.62      0\n",
              "1   0.0  1.191857  0.266151  0.166480  ... -0.008983  0.014724    2.69      0\n",
              "2   1.0 -1.358354 -1.340163  1.773209  ... -0.055353 -0.059752  378.66      0\n",
              "3   1.0 -0.966272 -0.185226  1.792993  ...  0.062723  0.061458  123.50      0\n",
              "4   2.0 -1.158233  0.877737  1.548718  ...  0.219422  0.215153   69.99      0\n",
              "\n",
              "[5 rows x 31 columns]"
            ]
          },
          "metadata": {
            "tags": []
          },
          "execution_count": 22
        }
      ]
    },
    {
      "cell_type": "code",
      "metadata": {
        "id": "sE93tq6qWIjU",
        "colab_type": "code",
        "colab": {}
      },
      "source": [
        "df['TimeNorm'] = df['Time'].apply(lambda x: np.ceil(float(x)/3600) % 24.)"
      ],
      "execution_count": 0,
      "outputs": []
    },
    {
      "cell_type": "code",
      "metadata": {
        "id": "eICwaNWpW0oM",
        "colab_type": "code",
        "colab": {}
      },
      "source": [
        "def format_plot(p, x_label, y_label):\n",
        "    p.grid.grid_line_color = None\n",
        "    p.background_fill_color = 'whitesmoke'\n",
        "    p.axis.minor_tick_line_color = None\n",
        "    p.title.align = 'center'\n",
        "    p.title.text_font_size = '18px'\n",
        "    p.xaxis.axis_label = x_label\n",
        "    p.yaxis.axis_label = y_label\n",
        "    p.xaxis.axis_label_text_font_size = '14px'\n",
        "    p.yaxis.axis_label_text_font_size = '14px'\n",
        "    p.yaxis.axis_line_color = None\n",
        "    p.yaxis.major_tick_line_color = None\n",
        "    p.axis.major_label_text_font_size = '12px'\n",
        "\n",
        "    return p"
      ],
      "execution_count": 0,
      "outputs": []
    },
    {
      "cell_type": "code",
      "metadata": {
        "id": "sefU3cCFYDyf",
        "colab_type": "code",
        "colab": {
          "base_uri": "https://localhost:8080/",
          "height": 617
        },
        "outputId": "fd2a8dfb-9e41-43f1-b26a-287378d056b2"
      },
      "source": [
        "# Get only fraud transactions\n",
        "fraud_df = df[df['Class'] == 1]\n",
        "f_source = ColumnDataSource(data = dict(x = fraud_df['TimeNorm'].values, y = fraud_df['Amount'].values))\n",
        "\n",
        "# get only normal transactions\n",
        "non_fraud_df = df[df['Class'] == 0]\n",
        "\n",
        "# Limit amount of data in plot\n",
        "sample_non_fraud = df.sample(frac=0.01, replace=False)\n",
        "norm_source = ColumnDataSource(data = dict(x = sample_non_fraud['TimeNorm'].values, y = sample_non_fraud['Amount'].values))\n",
        "\n",
        "# create Bokeh figure\n",
        "p = figure(plot_width = 800,\n",
        "           toolbar_location = None,\n",
        "           title = 'Transactions by Time and Amount')\n",
        "\n",
        "# plot Normal Transactions\n",
        "p.circle(x=jitter('x', width = 0.9, range = p.x_range),\n",
        "         y = 'y', color = Set3_12[4],\n",
        "         fill_alpha = 0.1,\n",
        "         source = norm_source)\n",
        "\n",
        "# plot Fraud Transactions\n",
        "p.circle(x=jitter('x', width = 0.9, range = p.x_range),\n",
        "         y = 'y', color = Set3_12[3],\n",
        "         fill_alpha = 0.7,\n",
        "         source = f_source)\n",
        "\n",
        "# function to format plot\n",
        "p = format_plot(p, 'Time', 'Amount')\n",
        "\n",
        "p.yaxis[0].formatter = NumeralTickFormatter(format='$0,0')\n",
        "\n",
        "show(p)"
      ],
      "execution_count": 25,
      "outputs": [
        {
          "output_type": "display_data",
          "data": {
            "application/javascript": [
              "\n",
              "(function(root) {\n",
              "  function now() {\n",
              "    return new Date();\n",
              "  }\n",
              "\n",
              "  var force = true;\n",
              "\n",
              "  if (typeof (root._bokeh_onload_callbacks) === \"undefined\" || force === true) {\n",
              "    root._bokeh_onload_callbacks = [];\n",
              "    root._bokeh_is_loading = undefined;\n",
              "  }\n",
              "\n",
              "  var JS_MIME_TYPE = 'application/javascript';\n",
              "  var HTML_MIME_TYPE = 'text/html';\n",
              "  var EXEC_MIME_TYPE = 'application/vnd.bokehjs_exec.v0+json';\n",
              "  var CLASS_NAME = 'output_bokeh rendered_html';\n",
              "\n",
              "  /**\n",
              "   * Render data to the DOM node\n",
              "   */\n",
              "  function render(props, node) {\n",
              "    var script = document.createElement(\"script\");\n",
              "    node.appendChild(script);\n",
              "  }\n",
              "\n",
              "  /**\n",
              "   * Handle when an output is cleared or removed\n",
              "   */\n",
              "  function handleClearOutput(event, handle) {\n",
              "    var cell = handle.cell;\n",
              "\n",
              "    var id = cell.output_area._bokeh_element_id;\n",
              "    var server_id = cell.output_area._bokeh_server_id;\n",
              "    // Clean up Bokeh references\n",
              "    if (id != null && id in Bokeh.index) {\n",
              "      Bokeh.index[id].model.document.clear();\n",
              "      delete Bokeh.index[id];\n",
              "    }\n",
              "\n",
              "    if (server_id !== undefined) {\n",
              "      // Clean up Bokeh references\n",
              "      var cmd = \"from bokeh.io.state import curstate; print(curstate().uuid_to_server['\" + server_id + \"'].get_sessions()[0].document.roots[0]._id)\";\n",
              "      cell.notebook.kernel.execute(cmd, {\n",
              "        iopub: {\n",
              "          output: function(msg) {\n",
              "            var id = msg.content.text.trim();\n",
              "            if (id in Bokeh.index) {\n",
              "              Bokeh.index[id].model.document.clear();\n",
              "              delete Bokeh.index[id];\n",
              "            }\n",
              "          }\n",
              "        }\n",
              "      });\n",
              "      // Destroy server and session\n",
              "      var cmd = \"import bokeh.io.notebook as ion; ion.destroy_server('\" + server_id + \"')\";\n",
              "      cell.notebook.kernel.execute(cmd);\n",
              "    }\n",
              "  }\n",
              "\n",
              "  /**\n",
              "   * Handle when a new output is added\n",
              "   */\n",
              "  function handleAddOutput(event, handle) {\n",
              "    var output_area = handle.output_area;\n",
              "    var output = handle.output;\n",
              "\n",
              "    // limit handleAddOutput to display_data with EXEC_MIME_TYPE content only\n",
              "    if ((output.output_type != \"display_data\") || (!output.data.hasOwnProperty(EXEC_MIME_TYPE))) {\n",
              "      return\n",
              "    }\n",
              "\n",
              "    var toinsert = output_area.element.find(\".\" + CLASS_NAME.split(' ')[0]);\n",
              "\n",
              "    if (output.metadata[EXEC_MIME_TYPE][\"id\"] !== undefined) {\n",
              "      toinsert[toinsert.length - 1].firstChild.textContent = output.data[JS_MIME_TYPE];\n",
              "      // store reference to embed id on output_area\n",
              "      output_area._bokeh_element_id = output.metadata[EXEC_MIME_TYPE][\"id\"];\n",
              "    }\n",
              "    if (output.metadata[EXEC_MIME_TYPE][\"server_id\"] !== undefined) {\n",
              "      var bk_div = document.createElement(\"div\");\n",
              "      bk_div.innerHTML = output.data[HTML_MIME_TYPE];\n",
              "      var script_attrs = bk_div.children[0].attributes;\n",
              "      for (var i = 0; i < script_attrs.length; i++) {\n",
              "        toinsert[toinsert.length - 1].firstChild.setAttribute(script_attrs[i].name, script_attrs[i].value);\n",
              "      }\n",
              "      // store reference to server id on output_area\n",
              "      output_area._bokeh_server_id = output.metadata[EXEC_MIME_TYPE][\"server_id\"];\n",
              "    }\n",
              "  }\n",
              "\n",
              "  function register_renderer(events, OutputArea) {\n",
              "\n",
              "    function append_mime(data, metadata, element) {\n",
              "      // create a DOM node to render to\n",
              "      var toinsert = this.create_output_subarea(\n",
              "        metadata,\n",
              "        CLASS_NAME,\n",
              "        EXEC_MIME_TYPE\n",
              "      );\n",
              "      this.keyboard_manager.register_events(toinsert);\n",
              "      // Render to node\n",
              "      var props = {data: data, metadata: metadata[EXEC_MIME_TYPE]};\n",
              "      render(props, toinsert[toinsert.length - 1]);\n",
              "      element.append(toinsert);\n",
              "      return toinsert\n",
              "    }\n",
              "\n",
              "    /* Handle when an output is cleared or removed */\n",
              "    events.on('clear_output.CodeCell', handleClearOutput);\n",
              "    events.on('delete.Cell', handleClearOutput);\n",
              "\n",
              "    /* Handle when a new output is added */\n",
              "    events.on('output_added.OutputArea', handleAddOutput);\n",
              "\n",
              "    /**\n",
              "     * Register the mime type and append_mime function with output_area\n",
              "     */\n",
              "    OutputArea.prototype.register_mime_type(EXEC_MIME_TYPE, append_mime, {\n",
              "      /* Is output safe? */\n",
              "      safe: true,\n",
              "      /* Index of renderer in `output_area.display_order` */\n",
              "      index: 0\n",
              "    });\n",
              "  }\n",
              "\n",
              "  // register the mime type if in Jupyter Notebook environment and previously unregistered\n",
              "  if (root.Jupyter !== undefined) {\n",
              "    var events = require('base/js/events');\n",
              "    var OutputArea = require('notebook/js/outputarea').OutputArea;\n",
              "\n",
              "    if (OutputArea.prototype.mime_types().indexOf(EXEC_MIME_TYPE) == -1) {\n",
              "      register_renderer(events, OutputArea);\n",
              "    }\n",
              "  }\n",
              "\n",
              "  \n",
              "  if (typeof (root._bokeh_timeout) === \"undefined\" || force === true) {\n",
              "    root._bokeh_timeout = Date.now() + 5000;\n",
              "    root._bokeh_failed_load = false;\n",
              "  }\n",
              "\n",
              "  var NB_LOAD_WARNING = {'data': {'text/html':\n",
              "     \"<div style='background-color: #fdd'>\\n\"+\n",
              "     \"<p>\\n\"+\n",
              "     \"BokehJS does not appear to have successfully loaded. If loading BokehJS from CDN, this \\n\"+\n",
              "     \"may be due to a slow or bad network connection. Possible fixes:\\n\"+\n",
              "     \"</p>\\n\"+\n",
              "     \"<ul>\\n\"+\n",
              "     \"<li>re-rerun `output_notebook()` to attempt to load from CDN again, or</li>\\n\"+\n",
              "     \"<li>use INLINE resources instead, as so:</li>\\n\"+\n",
              "     \"</ul>\\n\"+\n",
              "     \"<code>\\n\"+\n",
              "     \"from bokeh.resources import INLINE\\n\"+\n",
              "     \"output_notebook(resources=INLINE)\\n\"+\n",
              "     \"</code>\\n\"+\n",
              "     \"</div>\"}};\n",
              "\n",
              "  function display_loaded() {\n",
              "    var el = document.getElementById(null);\n",
              "    if (el != null) {\n",
              "      el.textContent = \"BokehJS is loading...\";\n",
              "    }\n",
              "    if (root.Bokeh !== undefined) {\n",
              "      if (el != null) {\n",
              "        el.textContent = \"BokehJS \" + root.Bokeh.version + \" successfully loaded.\";\n",
              "      }\n",
              "    } else if (Date.now() < root._bokeh_timeout) {\n",
              "      setTimeout(display_loaded, 100)\n",
              "    }\n",
              "  }\n",
              "\n",
              "\n",
              "  function run_callbacks() {\n",
              "    try {\n",
              "      root._bokeh_onload_callbacks.forEach(function(callback) { callback() });\n",
              "    }\n",
              "    finally {\n",
              "      delete root._bokeh_onload_callbacks\n",
              "    }\n",
              "    console.info(\"Bokeh: all callbacks have finished\");\n",
              "  }\n",
              "\n",
              "  function load_libs(js_urls, callback) {\n",
              "    root._bokeh_onload_callbacks.push(callback);\n",
              "    if (root._bokeh_is_loading > 0) {\n",
              "      console.log(\"Bokeh: BokehJS is being loaded, scheduling callback at\", now());\n",
              "      return null;\n",
              "    }\n",
              "    if (js_urls == null || js_urls.length === 0) {\n",
              "      run_callbacks();\n",
              "      return null;\n",
              "    }\n",
              "    console.log(\"Bokeh: BokehJS not loaded, scheduling load and callback at\", now());\n",
              "    root._bokeh_is_loading = js_urls.length;\n",
              "    for (var i = 0; i < js_urls.length; i++) {\n",
              "      var url = js_urls[i];\n",
              "      var s = document.createElement('script');\n",
              "      s.src = url;\n",
              "      s.async = false;\n",
              "      s.onreadystatechange = s.onload = function() {\n",
              "        root._bokeh_is_loading--;\n",
              "        if (root._bokeh_is_loading === 0) {\n",
              "          console.log(\"Bokeh: all BokehJS libraries loaded\");\n",
              "          run_callbacks()\n",
              "        }\n",
              "      };\n",
              "      s.onerror = function() {\n",
              "        console.warn(\"failed to load library \" + url);\n",
              "      };\n",
              "      console.log(\"Bokeh: injecting script tag for BokehJS library: \", url);\n",
              "      document.getElementsByTagName(\"head\")[0].appendChild(s);\n",
              "    }\n",
              "  };\n",
              "\n",
              "  var js_urls = [\"https://cdn.pydata.org/bokeh/release/bokeh-1.0.4.min.js\", \"https://cdn.pydata.org/bokeh/release/bokeh-widgets-1.0.4.min.js\", \"https://cdn.pydata.org/bokeh/release/bokeh-tables-1.0.4.min.js\", \"https://cdn.pydata.org/bokeh/release/bokeh-gl-1.0.4.min.js\"];\n",
              "\n",
              "  var inline_js = [\n",
              "    function(Bokeh) {\n",
              "      Bokeh.set_log_level(\"info\");\n",
              "    },\n",
              "    \n",
              "    function(Bokeh) {\n",
              "      \n",
              "    },\n",
              "    function(Bokeh) {\n",
              "      console.log(\"Bokeh: injecting CSS: https://cdn.pydata.org/bokeh/release/bokeh-1.0.4.min.css\");\n",
              "      Bokeh.embed.inject_css(\"https://cdn.pydata.org/bokeh/release/bokeh-1.0.4.min.css\");\n",
              "      console.log(\"Bokeh: injecting CSS: https://cdn.pydata.org/bokeh/release/bokeh-widgets-1.0.4.min.css\");\n",
              "      Bokeh.embed.inject_css(\"https://cdn.pydata.org/bokeh/release/bokeh-widgets-1.0.4.min.css\");\n",
              "      console.log(\"Bokeh: injecting CSS: https://cdn.pydata.org/bokeh/release/bokeh-tables-1.0.4.min.css\");\n",
              "      Bokeh.embed.inject_css(\"https://cdn.pydata.org/bokeh/release/bokeh-tables-1.0.4.min.css\");\n",
              "    }\n",
              "  ];\n",
              "\n",
              "  function run_inline_js() {\n",
              "    \n",
              "    if ((root.Bokeh !== undefined) || (force === true)) {\n",
              "      for (var i = 0; i < inline_js.length; i++) {\n",
              "        inline_js[i].call(root, root.Bokeh);\n",
              "      }} else if (Date.now() < root._bokeh_timeout) {\n",
              "      setTimeout(run_inline_js, 100);\n",
              "    } else if (!root._bokeh_failed_load) {\n",
              "      console.log(\"Bokeh: BokehJS failed to load within specified timeout.\");\n",
              "      root._bokeh_failed_load = true;\n",
              "    } else if (force !== true) {\n",
              "      var cell = $(document.getElementById(null)).parents('.cell').data().cell;\n",
              "      cell.output_area.append_execute_result(NB_LOAD_WARNING)\n",
              "    }\n",
              "\n",
              "  }\n",
              "\n",
              "  if (root._bokeh_is_loading === 0) {\n",
              "    console.log(\"Bokeh: BokehJS loaded, going straight to plotting\");\n",
              "    run_inline_js();\n",
              "  } else {\n",
              "    load_libs(js_urls, function() {\n",
              "      console.log(\"Bokeh: BokehJS plotting callback run at\", now());\n",
              "      run_inline_js();\n",
              "    });\n",
              "  }\n",
              "}(window));"
            ],
            "application/vnd.bokehjs_load.v0+json": "\n(function(root) {\n  function now() {\n    return new Date();\n  }\n\n  var force = true;\n\n  if (typeof (root._bokeh_onload_callbacks) === \"undefined\" || force === true) {\n    root._bokeh_onload_callbacks = [];\n    root._bokeh_is_loading = undefined;\n  }\n\n  \n\n  \n  if (typeof (root._bokeh_timeout) === \"undefined\" || force === true) {\n    root._bokeh_timeout = Date.now() + 5000;\n    root._bokeh_failed_load = false;\n  }\n\n  var NB_LOAD_WARNING = {'data': {'text/html':\n     \"<div style='background-color: #fdd'>\\n\"+\n     \"<p>\\n\"+\n     \"BokehJS does not appear to have successfully loaded. If loading BokehJS from CDN, this \\n\"+\n     \"may be due to a slow or bad network connection. Possible fixes:\\n\"+\n     \"</p>\\n\"+\n     \"<ul>\\n\"+\n     \"<li>re-rerun `output_notebook()` to attempt to load from CDN again, or</li>\\n\"+\n     \"<li>use INLINE resources instead, as so:</li>\\n\"+\n     \"</ul>\\n\"+\n     \"<code>\\n\"+\n     \"from bokeh.resources import INLINE\\n\"+\n     \"output_notebook(resources=INLINE)\\n\"+\n     \"</code>\\n\"+\n     \"</div>\"}};\n\n  function display_loaded() {\n    var el = document.getElementById(null);\n    if (el != null) {\n      el.textContent = \"BokehJS is loading...\";\n    }\n    if (root.Bokeh !== undefined) {\n      if (el != null) {\n        el.textContent = \"BokehJS \" + root.Bokeh.version + \" successfully loaded.\";\n      }\n    } else if (Date.now() < root._bokeh_timeout) {\n      setTimeout(display_loaded, 100)\n    }\n  }\n\n\n  function run_callbacks() {\n    try {\n      root._bokeh_onload_callbacks.forEach(function(callback) { callback() });\n    }\n    finally {\n      delete root._bokeh_onload_callbacks\n    }\n    console.info(\"Bokeh: all callbacks have finished\");\n  }\n\n  function load_libs(js_urls, callback) {\n    root._bokeh_onload_callbacks.push(callback);\n    if (root._bokeh_is_loading > 0) {\n      console.log(\"Bokeh: BokehJS is being loaded, scheduling callback at\", now());\n      return null;\n    }\n    if (js_urls == null || js_urls.length === 0) {\n      run_callbacks();\n      return null;\n    }\n    console.log(\"Bokeh: BokehJS not loaded, scheduling load and callback at\", now());\n    root._bokeh_is_loading = js_urls.length;\n    for (var i = 0; i < js_urls.length; i++) {\n      var url = js_urls[i];\n      var s = document.createElement('script');\n      s.src = url;\n      s.async = false;\n      s.onreadystatechange = s.onload = function() {\n        root._bokeh_is_loading--;\n        if (root._bokeh_is_loading === 0) {\n          console.log(\"Bokeh: all BokehJS libraries loaded\");\n          run_callbacks()\n        }\n      };\n      s.onerror = function() {\n        console.warn(\"failed to load library \" + url);\n      };\n      console.log(\"Bokeh: injecting script tag for BokehJS library: \", url);\n      document.getElementsByTagName(\"head\")[0].appendChild(s);\n    }\n  };\n\n  var js_urls = [\"https://cdn.pydata.org/bokeh/release/bokeh-1.0.4.min.js\", \"https://cdn.pydata.org/bokeh/release/bokeh-widgets-1.0.4.min.js\", \"https://cdn.pydata.org/bokeh/release/bokeh-tables-1.0.4.min.js\", \"https://cdn.pydata.org/bokeh/release/bokeh-gl-1.0.4.min.js\"];\n\n  var inline_js = [\n    function(Bokeh) {\n      Bokeh.set_log_level(\"info\");\n    },\n    \n    function(Bokeh) {\n      \n    },\n    function(Bokeh) {\n      console.log(\"Bokeh: injecting CSS: https://cdn.pydata.org/bokeh/release/bokeh-1.0.4.min.css\");\n      Bokeh.embed.inject_css(\"https://cdn.pydata.org/bokeh/release/bokeh-1.0.4.min.css\");\n      console.log(\"Bokeh: injecting CSS: https://cdn.pydata.org/bokeh/release/bokeh-widgets-1.0.4.min.css\");\n      Bokeh.embed.inject_css(\"https://cdn.pydata.org/bokeh/release/bokeh-widgets-1.0.4.min.css\");\n      console.log(\"Bokeh: injecting CSS: https://cdn.pydata.org/bokeh/release/bokeh-tables-1.0.4.min.css\");\n      Bokeh.embed.inject_css(\"https://cdn.pydata.org/bokeh/release/bokeh-tables-1.0.4.min.css\");\n    }\n  ];\n\n  function run_inline_js() {\n    \n    if ((root.Bokeh !== undefined) || (force === true)) {\n      for (var i = 0; i < inline_js.length; i++) {\n        inline_js[i].call(root, root.Bokeh);\n      }} else if (Date.now() < root._bokeh_timeout) {\n      setTimeout(run_inline_js, 100);\n    } else if (!root._bokeh_failed_load) {\n      console.log(\"Bokeh: BokehJS failed to load within specified timeout.\");\n      root._bokeh_failed_load = true;\n    } else if (force !== true) {\n      var cell = $(document.getElementById(null)).parents('.cell').data().cell;\n      cell.output_area.append_execute_result(NB_LOAD_WARNING)\n    }\n\n  }\n\n  if (root._bokeh_is_loading === 0) {\n    console.log(\"Bokeh: BokehJS loaded, going straight to plotting\");\n    run_inline_js();\n  } else {\n    load_libs(js_urls, function() {\n      console.log(\"Bokeh: BokehJS plotting callback run at\", now());\n      run_inline_js();\n    });\n  }\n}(window));"
          },
          "metadata": {
            "tags": []
          }
        },
        {
          "output_type": "display_data",
          "data": {
            "text/html": [
              "\n",
              "\n",
              "\n",
              "\n",
              "\n",
              "\n",
              "  <div class=\"bk-root\" id=\"7e85ae00-b078-49d5-a263-754d17c9e4ae\" data-root-id=\"1131\"></div>\n"
            ]
          },
          "metadata": {
            "tags": []
          }
        },
        {
          "output_type": "display_data",
          "data": {
            "application/javascript": [
              "(function(root) {\n",
              "  function embed_document(root) {\n",
              "    \n",
              "  var docs_json = {\"cbc72d08-9506-4dbf-ae7d-c618ba7be6a4\":{\"roots\":{\"references\":[{\"attributes\":{\"background_fill_color\":{\"value\":\"whitesmoke\"},\"below\":[{\"id\":\"1141\",\"type\":\"LinearAxis\"}],\"left\":[{\"id\":\"1146\",\"type\":\"LinearAxis\"}],\"plot_width\":800,\"renderers\":[{\"id\":\"1141\",\"type\":\"LinearAxis\"},{\"id\":\"1145\",\"type\":\"Grid\"},{\"id\":\"1146\",\"type\":\"LinearAxis\"},{\"id\":\"1150\",\"type\":\"Grid\"},{\"id\":\"1159\",\"type\":\"BoxAnnotation\"},{\"id\":\"1170\",\"type\":\"GlyphRenderer\"},{\"id\":\"1176\",\"type\":\"GlyphRenderer\"}],\"title\":{\"id\":\"1130\",\"type\":\"Title\"},\"toolbar\":{\"id\":\"1157\",\"type\":\"Toolbar\"},\"toolbar_location\":null,\"x_range\":{\"id\":\"1133\",\"type\":\"DataRange1d\"},\"x_scale\":{\"id\":\"1137\",\"type\":\"LinearScale\"},\"y_range\":{\"id\":\"1135\",\"type\":\"DataRange1d\"},\"y_scale\":{\"id\":\"1139\",\"type\":\"LinearScale\"}},\"id\":\"1131\",\"subtype\":\"Figure\",\"type\":\"Plot\"},{\"attributes\":{},\"id\":\"1155\",\"type\":\"ResetTool\"},{\"attributes\":{},\"id\":\"1187\",\"type\":\"Selection\"},{\"attributes\":{},\"id\":\"1156\",\"type\":\"HelpTool\"},{\"attributes\":{\"grid_line_color\":{\"value\":null},\"plot\":{\"id\":\"1131\",\"subtype\":\"Figure\",\"type\":\"Plot\"},\"ticker\":{\"id\":\"1142\",\"type\":\"BasicTicker\"}},\"id\":\"1145\",\"type\":\"Grid\"},{\"attributes\":{\"active_drag\":\"auto\",\"active_inspect\":\"auto\",\"active_multi\":null,\"active_scroll\":\"auto\",\"active_tap\":\"auto\",\"tools\":[{\"id\":\"1151\",\"type\":\"PanTool\"},{\"id\":\"1152\",\"type\":\"WheelZoomTool\"},{\"id\":\"1153\",\"type\":\"BoxZoomTool\"},{\"id\":\"1154\",\"type\":\"SaveTool\"},{\"id\":\"1155\",\"type\":\"ResetTool\"},{\"id\":\"1156\",\"type\":\"HelpTool\"}]},\"id\":\"1157\",\"type\":\"Toolbar\"},{\"attributes\":{\"bottom_units\":\"screen\",\"fill_alpha\":{\"value\":0.5},\"fill_color\":{\"value\":\"lightgrey\"},\"left_units\":\"screen\",\"level\":\"overlay\",\"line_alpha\":{\"value\":1.0},\"line_color\":{\"value\":\"black\"},\"line_dash\":[4,4],\"line_width\":{\"value\":2},\"plot\":null,\"render_mode\":\"css\",\"right_units\":\"screen\",\"top_units\":\"screen\"},\"id\":\"1159\",\"type\":\"BoxAnnotation\"},{\"attributes\":{\"data_source\":{\"id\":\"1129\",\"type\":\"ColumnDataSource\"},\"glyph\":{\"id\":\"1168\",\"type\":\"Circle\"},\"hover_glyph\":null,\"muted_glyph\":null,\"nonselection_glyph\":{\"id\":\"1169\",\"type\":\"Circle\"},\"selection_glyph\":null,\"view\":{\"id\":\"1171\",\"type\":\"CDSView\"}},\"id\":\"1170\",\"type\":\"GlyphRenderer\"},{\"attributes\":{\"range\":{\"id\":\"1133\",\"type\":\"DataRange1d\"},\"width\":0.9},\"id\":\"1166\",\"type\":\"Jitter\"},{\"attributes\":{\"source\":{\"id\":\"1129\",\"type\":\"ColumnDataSource\"}},\"id\":\"1171\",\"type\":\"CDSView\"},{\"attributes\":{\"dimension\":1,\"grid_line_color\":{\"value\":null},\"plot\":{\"id\":\"1131\",\"subtype\":\"Figure\",\"type\":\"Plot\"},\"ticker\":{\"id\":\"1147\",\"type\":\"BasicTicker\"}},\"id\":\"1150\",\"type\":\"Grid\"},{\"attributes\":{\"fill_alpha\":{\"value\":0.7},\"fill_color\":{\"value\":\"#fb8072\"},\"line_color\":{\"value\":\"#fb8072\"},\"x\":{\"field\":\"x\",\"transform\":{\"id\":\"1172\",\"type\":\"Jitter\"}},\"y\":{\"field\":\"y\"}},\"id\":\"1174\",\"type\":\"Circle\"},{\"attributes\":{},\"id\":\"1147\",\"type\":\"BasicTicker\"},{\"attributes\":{\"fill_alpha\":{\"value\":0.1},\"fill_color\":{\"value\":\"#1f77b4\"},\"line_alpha\":{\"value\":0.1},\"line_color\":{\"value\":\"#1f77b4\"},\"x\":{\"field\":\"x\",\"transform\":{\"id\":\"1172\",\"type\":\"Jitter\"}},\"y\":{\"field\":\"y\"}},\"id\":\"1175\",\"type\":\"Circle\"},{\"attributes\":{},\"id\":\"1142\",\"type\":\"BasicTicker\"},{\"attributes\":{\"fill_alpha\":{\"value\":0.1},\"fill_color\":{\"value\":\"#80b1d3\"},\"line_color\":{\"value\":\"#80b1d3\"},\"x\":{\"field\":\"x\",\"transform\":{\"id\":\"1166\",\"type\":\"Jitter\"}},\"y\":{\"field\":\"y\"}},\"id\":\"1168\",\"type\":\"Circle\"},{\"attributes\":{\"data_source\":{\"id\":\"1128\",\"type\":\"ColumnDataSource\"},\"glyph\":{\"id\":\"1174\",\"type\":\"Circle\"},\"hover_glyph\":null,\"muted_glyph\":null,\"nonselection_glyph\":{\"id\":\"1175\",\"type\":\"Circle\"},\"selection_glyph\":null,\"view\":{\"id\":\"1177\",\"type\":\"CDSView\"}},\"id\":\"1176\",\"type\":\"GlyphRenderer\"},{\"attributes\":{},\"id\":\"1152\",\"type\":\"WheelZoomTool\"},{\"attributes\":{\"source\":{\"id\":\"1128\",\"type\":\"ColumnDataSource\"}},\"id\":\"1177\",\"type\":\"CDSView\"},{\"attributes\":{},\"id\":\"1151\",\"type\":\"PanTool\"},{\"attributes\":{\"fill_alpha\":{\"value\":0.1},\"fill_color\":{\"value\":\"#1f77b4\"},\"line_alpha\":{\"value\":0.1},\"line_color\":{\"value\":\"#1f77b4\"},\"x\":{\"field\":\"x\",\"transform\":{\"id\":\"1166\",\"type\":\"Jitter\"}},\"y\":{\"field\":\"y\"}},\"id\":\"1169\",\"type\":\"Circle\"},{\"attributes\":{\"callback\":null},\"id\":\"1133\",\"type\":\"DataRange1d\"},{\"attributes\":{\"axis_label\":\"Amount\",\"axis_label_text_font_size\":{\"value\":\"14px\"},\"axis_line_color\":{\"value\":null},\"formatter\":{\"id\":\"1178\",\"type\":\"NumeralTickFormatter\"},\"major_label_text_font_size\":{\"value\":\"12px\"},\"major_tick_line_color\":{\"value\":null},\"minor_tick_line_color\":{\"value\":null},\"plot\":{\"id\":\"1131\",\"subtype\":\"Figure\",\"type\":\"Plot\"},\"ticker\":{\"id\":\"1147\",\"type\":\"BasicTicker\"}},\"id\":\"1146\",\"type\":\"LinearAxis\"},{\"attributes\":{\"format\":\"$0,0\"},\"id\":\"1178\",\"type\":\"NumeralTickFormatter\"},{\"attributes\":{\"callback\":null},\"id\":\"1135\",\"type\":\"DataRange1d\"},{\"attributes\":{\"callback\":null,\"data\":{\"x\":{\"__ndarray__\":\"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\",\"dtype\":\"float64\",\"shape\":[492]},\"y\":{\"__ndarray__\":\"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\",\"dtype\":\"float64\",\"shape\":[492]}},\"selected\":{\"id\":\"1187\",\"type\":\"Selection\"},\"selection_policy\":{\"id\":\"1186\",\"type\":\"UnionRenderers\"}},\"id\":\"1128\",\"type\":\"ColumnDataSource\"},{\"attributes\":{},\"id\":\"1154\",\"type\":\"SaveTool\"},{\"attributes\":{\"align\":\"center\",\"plot\":null,\"text\":\"Transactions by Time and Amount\",\"text_font_size\":{\"value\":\"18px\"}},\"id\":\"1130\",\"type\":\"Title\"},{\"attributes\":{},\"id\":\"1182\",\"type\":\"BasicTickFormatter\"},{\"attributes\":{},\"id\":\"1137\",\"type\":\"LinearScale\"},{\"attributes\":{\"range\":{\"id\":\"1133\",\"type\":\"DataRange1d\"},\"width\":0.9},\"id\":\"1172\",\"type\":\"Jitter\"},{\"attributes\":{},\"id\":\"1139\",\"type\":\"LinearScale\"},{\"attributes\":{},\"id\":\"1186\",\"type\":\"UnionRenderers\"},{\"attributes\":{\"overlay\":{\"id\":\"1159\",\"type\":\"BoxAnnotation\"}},\"id\":\"1153\",\"type\":\"BoxZoomTool\"},{\"attributes\":{},\"id\":\"1184\",\"type\":\"UnionRenderers\"},{\"attributes\":{\"axis_label\":\"Time\",\"axis_label_text_font_size\":{\"value\":\"14px\"},\"formatter\":{\"id\":\"1182\",\"type\":\"BasicTickFormatter\"},\"major_label_text_font_size\":{\"value\":\"12px\"},\"minor_tick_line_color\":{\"value\":null},\"plot\":{\"id\":\"1131\",\"subtype\":\"Figure\",\"type\":\"Plot\"},\"ticker\":{\"id\":\"1142\",\"type\":\"BasicTicker\"}},\"id\":\"1141\",\"type\":\"LinearAxis\"},{\"attributes\":{},\"id\":\"1185\",\"type\":\"Selection\"},{\"attributes\":{\"callback\":null,\"data\":{\"x\":{\"__ndarray__\":\"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\",\"dtype\":\"float64\",\"shape\":[2848]},\"y\":{\"__ndarray__\":\"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\",\"dtype\":\"float64\",\"shape\":[2848]}},\"selected\":{\"id\":\"1185\",\"type\":\"Selection\"},\"selection_policy\":{\"id\":\"1184\",\"type\":\"UnionRenderers\"}},\"id\":\"1129\",\"type\":\"ColumnDataSource\"}],\"root_ids\":[\"1131\"]},\"title\":\"Bokeh Application\",\"version\":\"1.0.4\"}};\n",
              "  var render_items = [{\"docid\":\"cbc72d08-9506-4dbf-ae7d-c618ba7be6a4\",\"roots\":{\"1131\":\"7e85ae00-b078-49d5-a263-754d17c9e4ae\"}}];\n",
              "  root.Bokeh.embed.embed_items_notebook(docs_json, render_items);\n",
              "\n",
              "  }\n",
              "  if (root.Bokeh !== undefined) {\n",
              "    embed_document(root);\n",
              "  } else {\n",
              "    var attempts = 0;\n",
              "    var timer = setInterval(function(root) {\n",
              "      if (root.Bokeh !== undefined) {\n",
              "        embed_document(root);\n",
              "        clearInterval(timer);\n",
              "      }\n",
              "      attempts++;\n",
              "      if (attempts > 100) {\n",
              "        console.log(\"Bokeh: ERROR: Unable to run BokehJS code because BokehJS library is missing\");\n",
              "        clearInterval(timer);\n",
              "      }\n",
              "    }, 10, root)\n",
              "  }\n",
              "})(window);"
            ],
            "application/vnd.bokehjs_exec.v0+json": ""
          },
          "metadata": {
            "tags": [],
            "application/vnd.bokehjs_exec.v0+json": {
              "id": "1131"
            }
          }
        }
      ]
    },
    {
      "cell_type": "code",
      "metadata": {
        "id": "GTEuWUTHa9U3",
        "colab_type": "code",
        "colab": {
          "base_uri": "https://localhost:8080/",
          "height": 35
        },
        "outputId": "e5d5f2b9-fa75-4d2a-f386-be3d5574db3a"
      },
      "source": [
        "df.loc[df['Class'] == 1, 'Amount'].max()"
      ],
      "execution_count": 26,
      "outputs": [
        {
          "output_type": "execute_result",
          "data": {
            "text/plain": [
              "2125.87"
            ]
          },
          "metadata": {
            "tags": []
          },
          "execution_count": 26
        }
      ]
    },
    {
      "cell_type": "markdown",
      "metadata": {
        "id": "p9RpF8HSbvkt",
        "colab_type": "text"
      },
      "source": [
        "## Data Normalization\n",
        "\n",
        "네트워크가 잘 학습할 수 있도록 StandardScaler()로 정규화한다."
      ]
    },
    {
      "cell_type": "code",
      "metadata": {
        "id": "aetwsfMab8FE",
        "colab_type": "code",
        "colab": {}
      },
      "source": [
        "ss = StandardScaler()\n",
        "df['TimeNorm'] = ss.fit_transform(df['TimeNorm'].values.reshape(-1, 1))\n",
        "df['NormAmt'] = ss.fit_transform(df['Amount'].values.reshape(-1, 1))"
      ],
      "execution_count": 0,
      "outputs": []
    },
    {
      "cell_type": "code",
      "metadata": {
        "id": "pTRFtJricU2k",
        "colab_type": "code",
        "colab": {}
      },
      "source": [
        "df = df.drop(['Time', 'Amount'], axis = 1)"
      ],
      "execution_count": 0,
      "outputs": []
    },
    {
      "cell_type": "code",
      "metadata": {
        "id": "QX1oGe0BcZY8",
        "colab_type": "code",
        "colab": {}
      },
      "source": [
        "X_train, X_test = train_test_split(df, test_size = 0.2, random_state = 42)"
      ],
      "execution_count": 0,
      "outputs": []
    },
    {
      "cell_type": "markdown",
      "metadata": {
        "id": "n1t-ecGwdrzO",
        "colab_type": "text"
      },
      "source": [
        "Normal 데이터만을 학습해야하므로 Normal과 Fraud를 구분한다."
      ]
    },
    {
      "cell_type": "code",
      "metadata": {
        "id": "t6OVln7Fe0p9",
        "colab_type": "code",
        "colab": {
          "base_uri": "https://localhost:8080/",
          "height": 35
        },
        "outputId": "06b91a78-950c-458b-96e9-662fad90251b"
      },
      "source": [
        "X_train = X_train[X_train['Class'] == 0]            # Normal data\n",
        "X_train = X_train.drop('Class', axis = 1)           # drop Class column\n",
        "\n",
        "y_test = X_test['Class'].values                     # y_test는 X_test의 Class를 저장\n",
        "X_test = X_test.drop('Class', axis = 1)             # drop Class column\n",
        "\n",
        "X_test = X_test.values\n",
        "X_train = X_train.values\n",
        "\n",
        "X_train.shape, X_test.shape"
      ],
      "execution_count": 32,
      "outputs": [
        {
          "output_type": "execute_result",
          "data": {
            "text/plain": [
              "((227451, 30), (56962, 30))"
            ]
          },
          "metadata": {
            "tags": []
          },
          "execution_count": 32
        }
      ]
    },
    {
      "cell_type": "markdown",
      "metadata": {
        "id": "aMmb4BM7ft6s",
        "colab_type": "text"
      },
      "source": [
        "Numpy 배열을 Pytorch Float 텐서로 바꾸고 DataLoader로 load한다."
      ]
    },
    {
      "cell_type": "code",
      "metadata": {
        "id": "LF3-WpvwgLqk",
        "colab_type": "code",
        "colab": {}
      },
      "source": [
        "Xt = torch.FloatTensor(X_train)\n",
        "Xtr = torch.FloatTensor(X_test)\n",
        "Xdl = DataLoader(Xt, batch_size = 1000)\n",
        "tdl = DataLoader(Xtr, batch_size = 1000)"
      ],
      "execution_count": 0,
      "outputs": []
    },
    {
      "cell_type": "markdown",
      "metadata": {
        "id": "1dtVNGyzga_9",
        "colab_type": "text"
      },
      "source": [
        "## Autoencoder Model"
      ]
    },
    {
      "cell_type": "code",
      "metadata": {
        "id": "M6Y4SJnVgxPd",
        "colab_type": "code",
        "colab": {}
      },
      "source": [
        "class Net1(nn.Module):\n",
        "    def __init__(self):\n",
        "        super().__init__()\n",
        "        self.lin1 = nn.Linear(30, 20)\n",
        "        self.lin2 = nn.Linear(20, 10)\n",
        "        self.lin7 = nn.Linear(10, 20)\n",
        "        self.lin8 = nn.Linear(20, 30)\n",
        "\n",
        "        self.drop2 = nn.Dropout(0.05)\n",
        "\n",
        "        self.lin1.weight.data.uniform_(-2, 2)\n",
        "        self.lin2.weight.data.uniform_(-2, 2)\n",
        "        self.lin7.weight.data.uniform_(-2, 2)\n",
        "        self.lin8.weight.data.uniform_(-2, 2)\n",
        "\n",
        "    def forward(self, data):\n",
        "        x = F.tanh(self.lin1(data))\n",
        "        x = self.drop2(F.tanh(self.lin2(x)))\n",
        "        x = F.tanh(self.lin7(x))\n",
        "        x = self.lin8(x)\n",
        "\n",
        "        return (x)"
      ],
      "execution_count": 0,
      "outputs": []
    },
    {
      "cell_type": "code",
      "metadata": {
        "id": "kSA9E6mhigkY",
        "colab_type": "code",
        "colab": {}
      },
      "source": [
        "def score(x):\n",
        "    y_pred = model(V(x))\n",
        "    x1 = V(x)\n",
        "\n",
        "    return loss(y_pred, x1).data"
      ],
      "execution_count": 0,
      "outputs": []
    },
    {
      "cell_type": "code",
      "metadata": {
        "id": "Ot4_i37eimJN",
        "colab_type": "code",
        "colab": {}
      },
      "source": [
        "# Utilize a named tuple to keep track of scores at each epoch\n",
        "model_hist = collections.namedtuple('Model', 'epoch loss val_loss')\n",
        "model_loss = model_hist(epoch = [], loss = [], val_loss = [])"
      ],
      "execution_count": 0,
      "outputs": []
    },
    {
      "cell_type": "code",
      "metadata": {
        "id": "m0eHuFObjsnf",
        "colab_type": "code",
        "colab": {}
      },
      "source": [
        "def train(epochs, model, model_loss):\n",
        "    try:c = model_loss.epoch[-1]\n",
        "    except: c = 0\n",
        "    for epoch in tqdm_notebook(range(epochs), position = 0, total = epochs):\n",
        "        losses = []\n",
        "        dl = iter(Xdl)\n",
        "        for t in range(len(dl)):\n",
        "            # Forward pass: compute predicted y and loss by passing x to the model.\n",
        "            Xt = next(dl)\n",
        "            y_pred = model(V(Xt))\n",
        "\n",
        "            l = loss(y_pred, V(Xt))\n",
        "            losses.append(l)\n",
        "            optimizer.zero_grad()\n",
        "\n",
        "            # Backward pass: compute gradient of the loss with respect to model parameters\n",
        "            l.backward()\n",
        "\n",
        "            # Calling the step function on an Optimizer makes an update to its parameters\n",
        "            optimizer.step()\n",
        "\n",
        "        val_dl = iter(tdl)\n",
        "        val_scores = [score(next(val_dl)) for i in range(len(val_dl))]\n",
        "\n",
        "        model_loss.epoch.append(c+epoch)\n",
        "        model_loss.loss.append(l.data)\n",
        "        model_loss.val_loss.append(np.mean(val_scores))\n",
        "        print(f'Epoch: {epoch}  Loss: {l.data:.4f}   Val_Loss: {np.mean(val_scores):.4f}')"
      ],
      "execution_count": 0,
      "outputs": []
    },
    {
      "cell_type": "markdown",
      "metadata": {
        "id": "28gRd3w-qDIM",
        "colab_type": "text"
      },
      "source": [
        "## Model Training"
      ]
    },
    {
      "cell_type": "code",
      "metadata": {
        "id": "q7OpafK4qkK3",
        "colab_type": "code",
        "colab": {}
      },
      "source": [
        "model = Net1()\n",
        "loss = nn.MSELoss()\n",
        "learning_rate = 1e-2\n",
        "optimizer = torch.optim.Adam(model.parameters(), lr=learning_rate)"
      ],
      "execution_count": 0,
      "outputs": []
    },
    {
      "cell_type": "code",
      "metadata": {
        "id": "HmfCIVH3qsZ2",
        "colab_type": "code",
        "colab": {
          "base_uri": "https://localhost:8080/",
          "height": 1000,
          "referenced_widgets": [
            "88aeb0f820bc4b86887ccad7f4b71424",
            "585210576661470aa3fc22c614fd3e92",
            "6b50cf9305a1467bb65895cddf6aca6b",
            "c1f0106cb6904b14934535f2ad1d5295",
            "31a83f57acd842bd8944e0b2ad658118",
            "235acfcc2e594c9999c5ed19a3e77c97",
            "5d711e1cd57d4078946b20abcdd6434c",
            "8692ad7006a14c3cb26ccf0b0ade7ba5"
          ]
        },
        "outputId": "2959dfa3-3983-4cac-d986-343e132fc8ea"
      },
      "source": [
        "train(model = model, epochs = 100, model_loss = model_loss)"
      ],
      "execution_count": 58,
      "outputs": [
        {
          "output_type": "display_data",
          "data": {
            "application/vnd.jupyter.widget-view+json": {
              "model_id": "88aeb0f820bc4b86887ccad7f4b71424",
              "version_minor": 0,
              "version_major": 2
            },
            "text/plain": [
              "HBox(children=(IntProgress(value=0), HTML(value='')))"
            ]
          },
          "metadata": {
            "tags": []
          }
        },
        {
          "output_type": "stream",
          "text": [
            "/usr/local/lib/python3.6/dist-packages/torch/nn/functional.py:1340: UserWarning: nn.functional.tanh is deprecated. Use torch.tanh instead.\n",
            "  warnings.warn(\"nn.functional.tanh is deprecated. Use torch.tanh instead.\")\n"
          ],
          "name": "stderr"
        },
        {
          "output_type": "stream",
          "text": [
            "Epoch: 0  Loss: 0.3655   Val_Loss: 0.4622\n",
            "Epoch: 1  Loss: 0.3794   Val_Loss: 0.4565\n",
            "Epoch: 2  Loss: 0.3578   Val_Loss: 0.4574\n",
            "Epoch: 3  Loss: 0.3520   Val_Loss: 0.4452\n",
            "Epoch: 4  Loss: 0.3378   Val_Loss: 0.4417\n",
            "Epoch: 5  Loss: 0.3534   Val_Loss: 0.4413\n",
            "Epoch: 6  Loss: 0.3512   Val_Loss: 0.4291\n",
            "Epoch: 7  Loss: 0.3278   Val_Loss: 0.4292\n",
            "Epoch: 8  Loss: 0.3434   Val_Loss: 0.4503\n",
            "Epoch: 9  Loss: 0.3310   Val_Loss: 0.4313\n",
            "Epoch: 10  Loss: 0.3239   Val_Loss: 0.4163\n",
            "Epoch: 11  Loss: 0.3165   Val_Loss: 0.4144\n",
            "Epoch: 12  Loss: 0.3402   Val_Loss: 0.4087\n",
            "Epoch: 13  Loss: 0.3331   Val_Loss: 0.4093\n",
            "Epoch: 14  Loss: 0.3144   Val_Loss: 0.4098\n",
            "Epoch: 15  Loss: 0.3256   Val_Loss: 0.4077\n",
            "Epoch: 16  Loss: 0.3273   Val_Loss: 0.4051\n",
            "Epoch: 17  Loss: 0.3102   Val_Loss: 0.4037\n",
            "Epoch: 18  Loss: 0.3101   Val_Loss: 0.4045\n",
            "Epoch: 19  Loss: 0.3071   Val_Loss: 0.4040\n",
            "Epoch: 20  Loss: 0.3063   Val_Loss: 0.4044\n",
            "Epoch: 21  Loss: 0.3065   Val_Loss: 0.4054\n",
            "Epoch: 22  Loss: 0.3030   Val_Loss: 0.3996\n",
            "Epoch: 23  Loss: 0.3079   Val_Loss: 0.4023\n",
            "Epoch: 24  Loss: 0.3103   Val_Loss: 0.3953\n",
            "Epoch: 25  Loss: 0.3090   Val_Loss: 0.3987\n",
            "Epoch: 26  Loss: 0.3171   Val_Loss: 0.3974\n",
            "Epoch: 27  Loss: 0.3078   Val_Loss: 0.3904\n",
            "Epoch: 28  Loss: 0.2931   Val_Loss: 0.3910\n",
            "Epoch: 29  Loss: 0.3182   Val_Loss: 0.4044\n",
            "Epoch: 30  Loss: 0.2993   Val_Loss: 0.3921\n",
            "Epoch: 31  Loss: 0.3018   Val_Loss: 0.3918\n",
            "Epoch: 32  Loss: 0.2976   Val_Loss: 0.3914\n",
            "Epoch: 33  Loss: 0.3116   Val_Loss: 0.3909\n",
            "Epoch: 34  Loss: 0.3083   Val_Loss: 0.3847\n",
            "Epoch: 35  Loss: 0.2954   Val_Loss: 0.3837\n",
            "Epoch: 36  Loss: 0.2896   Val_Loss: 0.3831\n",
            "Epoch: 37  Loss: 0.2864   Val_Loss: 0.3792\n",
            "Epoch: 38  Loss: 0.2948   Val_Loss: 0.3778\n",
            "Epoch: 39  Loss: 0.3017   Val_Loss: 0.3800\n",
            "Epoch: 40  Loss: 0.2912   Val_Loss: 0.3785\n",
            "Epoch: 41  Loss: 0.3173   Val_Loss: 0.3786\n",
            "Epoch: 42  Loss: 0.2804   Val_Loss: 0.3748\n",
            "Epoch: 43  Loss: 0.3030   Val_Loss: 0.3882\n",
            "Epoch: 44  Loss: 0.2956   Val_Loss: 0.3738\n",
            "Epoch: 45  Loss: 0.2895   Val_Loss: 0.3746\n",
            "Epoch: 46  Loss: 0.2938   Val_Loss: 0.3726\n",
            "Epoch: 47  Loss: 0.2961   Val_Loss: 0.3708\n",
            "Epoch: 48  Loss: 0.2795   Val_Loss: 0.3683\n",
            "Epoch: 49  Loss: 0.2811   Val_Loss: 0.3679\n",
            "Epoch: 50  Loss: 0.2807   Val_Loss: 0.3673\n",
            "Epoch: 51  Loss: 0.2934   Val_Loss: 0.3732\n",
            "Epoch: 52  Loss: 0.2838   Val_Loss: 0.3643\n",
            "Epoch: 53  Loss: 0.2824   Val_Loss: 0.3762\n",
            "Epoch: 54  Loss: 0.2872   Val_Loss: 0.3626\n",
            "Epoch: 55  Loss: 0.2865   Val_Loss: 0.3694\n",
            "Epoch: 56  Loss: 0.3114   Val_Loss: 0.3671\n",
            "Epoch: 57  Loss: 0.2795   Val_Loss: 0.3627\n",
            "Epoch: 58  Loss: 0.2856   Val_Loss: 0.3668\n",
            "Epoch: 59  Loss: 0.2822   Val_Loss: 0.3610\n",
            "Epoch: 60  Loss: 0.2839   Val_Loss: 0.3668\n",
            "Epoch: 61  Loss: 0.2844   Val_Loss: 0.3620\n",
            "Epoch: 62  Loss: 0.2814   Val_Loss: 0.3645\n",
            "Epoch: 63  Loss: 0.2916   Val_Loss: 0.3680\n",
            "Epoch: 64  Loss: 0.2949   Val_Loss: 0.3621\n",
            "Epoch: 65  Loss: 0.2791   Val_Loss: 0.3635\n",
            "Epoch: 66  Loss: 0.2806   Val_Loss: 0.3657\n",
            "Epoch: 67  Loss: 0.2892   Val_Loss: 0.3570\n",
            "Epoch: 68  Loss: 0.2781   Val_Loss: 0.3597\n",
            "Epoch: 69  Loss: 0.2723   Val_Loss: 0.3536\n",
            "Epoch: 70  Loss: 0.2780   Val_Loss: 0.3599\n",
            "Epoch: 71  Loss: 0.2832   Val_Loss: 0.3611\n",
            "Epoch: 72  Loss: 0.2894   Val_Loss: 0.3896\n",
            "Epoch: 73  Loss: 0.2862   Val_Loss: 0.3564\n",
            "Epoch: 74  Loss: 0.2778   Val_Loss: 0.3566\n",
            "Epoch: 75  Loss: 0.3135   Val_Loss: 0.3728\n",
            "Epoch: 76  Loss: 0.2807   Val_Loss: 0.3565\n",
            "Epoch: 77  Loss: 0.2788   Val_Loss: 0.3594\n",
            "Epoch: 78  Loss: 0.2738   Val_Loss: 0.3542\n",
            "Epoch: 79  Loss: 0.2801   Val_Loss: 0.3611\n",
            "Epoch: 80  Loss: 0.2833   Val_Loss: 0.3594\n",
            "Epoch: 81  Loss: 0.2938   Val_Loss: 0.3563\n",
            "Epoch: 82  Loss: 0.2779   Val_Loss: 0.3556\n",
            "Epoch: 83  Loss: 0.2889   Val_Loss: 0.3543\n",
            "Epoch: 84  Loss: 0.2887   Val_Loss: 0.3603\n",
            "Epoch: 85  Loss: 0.2839   Val_Loss: 0.3518\n",
            "Epoch: 86  Loss: 0.2687   Val_Loss: 0.3491\n",
            "Epoch: 87  Loss: 0.2746   Val_Loss: 0.3534\n",
            "Epoch: 88  Loss: 0.2796   Val_Loss: 0.3497\n",
            "Epoch: 89  Loss: 0.2896   Val_Loss: 0.3609\n",
            "Epoch: 90  Loss: 0.2726   Val_Loss: 0.3553\n",
            "Epoch: 91  Loss: 0.2696   Val_Loss: 0.3535\n",
            "Epoch: 92  Loss: 0.2777   Val_Loss: 0.3511\n",
            "Epoch: 93  Loss: 0.2753   Val_Loss: 0.3499\n",
            "Epoch: 94  Loss: 0.2820   Val_Loss: 0.3492\n",
            "Epoch: 95  Loss: 0.2799   Val_Loss: 0.3568\n",
            "Epoch: 96  Loss: 0.2711   Val_Loss: 0.3542\n",
            "Epoch: 97  Loss: 0.2821   Val_Loss: 0.3658\n",
            "Epoch: 98  Loss: 0.2857   Val_Loss: 0.3509\n",
            "Epoch: 99  Loss: 0.2709   Val_Loss: 0.3592\n",
            "\n"
          ],
          "name": "stdout"
        }
      ]
    },
    {
      "cell_type": "markdown",
      "metadata": {
        "id": "6d28PsNrqu7O",
        "colab_type": "text"
      },
      "source": [
        "## Predictions"
      ]
    },
    {
      "cell_type": "code",
      "metadata": {
        "id": "zF_AyQuNtQLi",
        "colab_type": "code",
        "colab": {
          "base_uri": "https://localhost:8080/",
          "height": 147
        },
        "outputId": "1765509c-693b-4f15-8c63-16c7c917e951"
      },
      "source": [
        "# Iterate through the dataloader and get predictions for each batch of the test set.\n",
        "p = iter(tdl)\n",
        "preds = np.vstack([model(V(next(p))).cpu().data.numpy() for i in range(len(p))])\n",
        "\n",
        "# Create a pandas DF that shows the Autoencoder MSE vs True Labels\n",
        "error = np.mean(np.power((X_test - preds), 2), axis = 1)\n",
        "error_df = pd.DataFrame(data = {'error': error, 'true': y_test})\n",
        "\n",
        "error_df.groupby('true')['error'].describe().reset_index()"
      ],
      "execution_count": 59,
      "outputs": [
        {
          "output_type": "stream",
          "text": [
            "/usr/local/lib/python3.6/dist-packages/torch/nn/functional.py:1340: UserWarning: nn.functional.tanh is deprecated. Use torch.tanh instead.\n",
            "  warnings.warn(\"nn.functional.tanh is deprecated. Use torch.tanh instead.\")\n"
          ],
          "name": "stderr"
        },
        {
          "output_type": "execute_result",
          "data": {
            "text/html": [
              "<div>\n",
              "<style scoped>\n",
              "    .dataframe tbody tr th:only-of-type {\n",
              "        vertical-align: middle;\n",
              "    }\n",
              "\n",
              "    .dataframe tbody tr th {\n",
              "        vertical-align: top;\n",
              "    }\n",
              "\n",
              "    .dataframe thead th {\n",
              "        text-align: right;\n",
              "    }\n",
              "</style>\n",
              "<table border=\"1\" class=\"dataframe\">\n",
              "  <thead>\n",
              "    <tr style=\"text-align: right;\">\n",
              "      <th></th>\n",
              "      <th>true</th>\n",
              "      <th>count</th>\n",
              "      <th>mean</th>\n",
              "      <th>std</th>\n",
              "      <th>min</th>\n",
              "      <th>25%</th>\n",
              "      <th>50%</th>\n",
              "      <th>75%</th>\n",
              "      <th>max</th>\n",
              "    </tr>\n",
              "  </thead>\n",
              "  <tbody>\n",
              "    <tr>\n",
              "      <th>0</th>\n",
              "      <td>0</td>\n",
              "      <td>56864.0</td>\n",
              "      <td>0.317496</td>\n",
              "      <td>1.041214</td>\n",
              "      <td>0.025472</td>\n",
              "      <td>0.138941</td>\n",
              "      <td>0.205294</td>\n",
              "      <td>0.326783</td>\n",
              "      <td>79.818142</td>\n",
              "    </tr>\n",
              "    <tr>\n",
              "      <th>1</th>\n",
              "      <td>1</td>\n",
              "      <td>98.0</td>\n",
              "      <td>24.059449</td>\n",
              "      <td>32.072652</td>\n",
              "      <td>0.142226</td>\n",
              "      <td>4.860388</td>\n",
              "      <td>9.839547</td>\n",
              "      <td>39.594763</td>\n",
              "      <td>185.608121</td>\n",
              "    </tr>\n",
              "  </tbody>\n",
              "</table>\n",
              "</div>"
            ],
            "text/plain": [
              "   true    count       mean  ...       50%        75%         max\n",
              "0     0  56864.0   0.317496  ...  0.205294   0.326783   79.818142\n",
              "1     1     98.0  24.059449  ...  9.839547  39.594763  185.608121\n",
              "\n",
              "[2 rows x 9 columns]"
            ]
          },
          "metadata": {
            "tags": []
          },
          "execution_count": 59
        }
      ]
    },
    {
      "cell_type": "code",
      "metadata": {
        "id": "VHAQ3ZmFtsPw",
        "colab_type": "code",
        "colab": {
          "base_uri": "https://localhost:8080/",
          "height": 517
        },
        "outputId": "b0033066-a904-4b3d-ae20-0a858fb9cfa4"
      },
      "source": [
        "fpr, tpr, thresholds = roc_curve(error_df.true, error_df.error)\n",
        "roc_auc = auc(fpr, tpr)\n",
        "\n",
        "source = ColumnDataSource(data=dict(\n",
        "    fpr = fpr,\n",
        "    tpr = tpr,\n",
        "    x = np.linspace(0,1,len(fpr)),\n",
        "    y = np.linspace(0,1,len(fpr))\n",
        "))\n",
        "\n",
        "p = figure(plot_height = 500, plot_width = 500,\n",
        "           toolbar_location = None, \n",
        "           title = \"Receiver Operating Characteristic\")\n",
        "\n",
        "j = p.line(x = \"x\", y = \"y\", \n",
        "           color=Set3_12[3], \n",
        "           line_width = 2, \n",
        "           line_dash = 'dashed', \n",
        "           source=source)\n",
        "\n",
        "k = p.line(x = \"fpr\", y = \"tpr\", \n",
        "           color=Set3_12[4], \n",
        "           line_width = 2, \n",
        "           legend = f'AUC = {roc_auc:0.4f}',\n",
        "           source=source)\n",
        "\n",
        "tips= [\n",
        "    (\"False-Pos\", \"@fpr{00.0%}\"),\n",
        "    (\"True-Pos\", \"@tpr{00.0%}\"),\n",
        "    ]\n",
        "p.add_tools(HoverTool(tooltips=tips, renderers=[k], mode='vline'))\n",
        "\n",
        "p = format_plot(p, 'False Positive Rate', 'True Positive Rate')\n",
        "p.legend.location = 'bottom_right'\n",
        "\n",
        "show(p);"
      ],
      "execution_count": 60,
      "outputs": [
        {
          "output_type": "display_data",
          "data": {
            "application/javascript": [
              "\n",
              "(function(root) {\n",
              "  function now() {\n",
              "    return new Date();\n",
              "  }\n",
              "\n",
              "  var force = true;\n",
              "\n",
              "  if (typeof (root._bokeh_onload_callbacks) === \"undefined\" || force === true) {\n",
              "    root._bokeh_onload_callbacks = [];\n",
              "    root._bokeh_is_loading = undefined;\n",
              "  }\n",
              "\n",
              "  var JS_MIME_TYPE = 'application/javascript';\n",
              "  var HTML_MIME_TYPE = 'text/html';\n",
              "  var EXEC_MIME_TYPE = 'application/vnd.bokehjs_exec.v0+json';\n",
              "  var CLASS_NAME = 'output_bokeh rendered_html';\n",
              "\n",
              "  /**\n",
              "   * Render data to the DOM node\n",
              "   */\n",
              "  function render(props, node) {\n",
              "    var script = document.createElement(\"script\");\n",
              "    node.appendChild(script);\n",
              "  }\n",
              "\n",
              "  /**\n",
              "   * Handle when an output is cleared or removed\n",
              "   */\n",
              "  function handleClearOutput(event, handle) {\n",
              "    var cell = handle.cell;\n",
              "\n",
              "    var id = cell.output_area._bokeh_element_id;\n",
              "    var server_id = cell.output_area._bokeh_server_id;\n",
              "    // Clean up Bokeh references\n",
              "    if (id != null && id in Bokeh.index) {\n",
              "      Bokeh.index[id].model.document.clear();\n",
              "      delete Bokeh.index[id];\n",
              "    }\n",
              "\n",
              "    if (server_id !== undefined) {\n",
              "      // Clean up Bokeh references\n",
              "      var cmd = \"from bokeh.io.state import curstate; print(curstate().uuid_to_server['\" + server_id + \"'].get_sessions()[0].document.roots[0]._id)\";\n",
              "      cell.notebook.kernel.execute(cmd, {\n",
              "        iopub: {\n",
              "          output: function(msg) {\n",
              "            var id = msg.content.text.trim();\n",
              "            if (id in Bokeh.index) {\n",
              "              Bokeh.index[id].model.document.clear();\n",
              "              delete Bokeh.index[id];\n",
              "            }\n",
              "          }\n",
              "        }\n",
              "      });\n",
              "      // Destroy server and session\n",
              "      var cmd = \"import bokeh.io.notebook as ion; ion.destroy_server('\" + server_id + \"')\";\n",
              "      cell.notebook.kernel.execute(cmd);\n",
              "    }\n",
              "  }\n",
              "\n",
              "  /**\n",
              "   * Handle when a new output is added\n",
              "   */\n",
              "  function handleAddOutput(event, handle) {\n",
              "    var output_area = handle.output_area;\n",
              "    var output = handle.output;\n",
              "\n",
              "    // limit handleAddOutput to display_data with EXEC_MIME_TYPE content only\n",
              "    if ((output.output_type != \"display_data\") || (!output.data.hasOwnProperty(EXEC_MIME_TYPE))) {\n",
              "      return\n",
              "    }\n",
              "\n",
              "    var toinsert = output_area.element.find(\".\" + CLASS_NAME.split(' ')[0]);\n",
              "\n",
              "    if (output.metadata[EXEC_MIME_TYPE][\"id\"] !== undefined) {\n",
              "      toinsert[toinsert.length - 1].firstChild.textContent = output.data[JS_MIME_TYPE];\n",
              "      // store reference to embed id on output_area\n",
              "      output_area._bokeh_element_id = output.metadata[EXEC_MIME_TYPE][\"id\"];\n",
              "    }\n",
              "    if (output.metadata[EXEC_MIME_TYPE][\"server_id\"] !== undefined) {\n",
              "      var bk_div = document.createElement(\"div\");\n",
              "      bk_div.innerHTML = output.data[HTML_MIME_TYPE];\n",
              "      var script_attrs = bk_div.children[0].attributes;\n",
              "      for (var i = 0; i < script_attrs.length; i++) {\n",
              "        toinsert[toinsert.length - 1].firstChild.setAttribute(script_attrs[i].name, script_attrs[i].value);\n",
              "      }\n",
              "      // store reference to server id on output_area\n",
              "      output_area._bokeh_server_id = output.metadata[EXEC_MIME_TYPE][\"server_id\"];\n",
              "    }\n",
              "  }\n",
              "\n",
              "  function register_renderer(events, OutputArea) {\n",
              "\n",
              "    function append_mime(data, metadata, element) {\n",
              "      // create a DOM node to render to\n",
              "      var toinsert = this.create_output_subarea(\n",
              "        metadata,\n",
              "        CLASS_NAME,\n",
              "        EXEC_MIME_TYPE\n",
              "      );\n",
              "      this.keyboard_manager.register_events(toinsert);\n",
              "      // Render to node\n",
              "      var props = {data: data, metadata: metadata[EXEC_MIME_TYPE]};\n",
              "      render(props, toinsert[toinsert.length - 1]);\n",
              "      element.append(toinsert);\n",
              "      return toinsert\n",
              "    }\n",
              "\n",
              "    /* Handle when an output is cleared or removed */\n",
              "    events.on('clear_output.CodeCell', handleClearOutput);\n",
              "    events.on('delete.Cell', handleClearOutput);\n",
              "\n",
              "    /* Handle when a new output is added */\n",
              "    events.on('output_added.OutputArea', handleAddOutput);\n",
              "\n",
              "    /**\n",
              "     * Register the mime type and append_mime function with output_area\n",
              "     */\n",
              "    OutputArea.prototype.register_mime_type(EXEC_MIME_TYPE, append_mime, {\n",
              "      /* Is output safe? */\n",
              "      safe: true,\n",
              "      /* Index of renderer in `output_area.display_order` */\n",
              "      index: 0\n",
              "    });\n",
              "  }\n",
              "\n",
              "  // register the mime type if in Jupyter Notebook environment and previously unregistered\n",
              "  if (root.Jupyter !== undefined) {\n",
              "    var events = require('base/js/events');\n",
              "    var OutputArea = require('notebook/js/outputarea').OutputArea;\n",
              "\n",
              "    if (OutputArea.prototype.mime_types().indexOf(EXEC_MIME_TYPE) == -1) {\n",
              "      register_renderer(events, OutputArea);\n",
              "    }\n",
              "  }\n",
              "\n",
              "  \n",
              "  if (typeof (root._bokeh_timeout) === \"undefined\" || force === true) {\n",
              "    root._bokeh_timeout = Date.now() + 5000;\n",
              "    root._bokeh_failed_load = false;\n",
              "  }\n",
              "\n",
              "  var NB_LOAD_WARNING = {'data': {'text/html':\n",
              "     \"<div style='background-color: #fdd'>\\n\"+\n",
              "     \"<p>\\n\"+\n",
              "     \"BokehJS does not appear to have successfully loaded. If loading BokehJS from CDN, this \\n\"+\n",
              "     \"may be due to a slow or bad network connection. Possible fixes:\\n\"+\n",
              "     \"</p>\\n\"+\n",
              "     \"<ul>\\n\"+\n",
              "     \"<li>re-rerun `output_notebook()` to attempt to load from CDN again, or</li>\\n\"+\n",
              "     \"<li>use INLINE resources instead, as so:</li>\\n\"+\n",
              "     \"</ul>\\n\"+\n",
              "     \"<code>\\n\"+\n",
              "     \"from bokeh.resources import INLINE\\n\"+\n",
              "     \"output_notebook(resources=INLINE)\\n\"+\n",
              "     \"</code>\\n\"+\n",
              "     \"</div>\"}};\n",
              "\n",
              "  function display_loaded() {\n",
              "    var el = document.getElementById(null);\n",
              "    if (el != null) {\n",
              "      el.textContent = \"BokehJS is loading...\";\n",
              "    }\n",
              "    if (root.Bokeh !== undefined) {\n",
              "      if (el != null) {\n",
              "        el.textContent = \"BokehJS \" + root.Bokeh.version + \" successfully loaded.\";\n",
              "      }\n",
              "    } else if (Date.now() < root._bokeh_timeout) {\n",
              "      setTimeout(display_loaded, 100)\n",
              "    }\n",
              "  }\n",
              "\n",
              "\n",
              "  function run_callbacks() {\n",
              "    try {\n",
              "      root._bokeh_onload_callbacks.forEach(function(callback) { callback() });\n",
              "    }\n",
              "    finally {\n",
              "      delete root._bokeh_onload_callbacks\n",
              "    }\n",
              "    console.info(\"Bokeh: all callbacks have finished\");\n",
              "  }\n",
              "\n",
              "  function load_libs(js_urls, callback) {\n",
              "    root._bokeh_onload_callbacks.push(callback);\n",
              "    if (root._bokeh_is_loading > 0) {\n",
              "      console.log(\"Bokeh: BokehJS is being loaded, scheduling callback at\", now());\n",
              "      return null;\n",
              "    }\n",
              "    if (js_urls == null || js_urls.length === 0) {\n",
              "      run_callbacks();\n",
              "      return null;\n",
              "    }\n",
              "    console.log(\"Bokeh: BokehJS not loaded, scheduling load and callback at\", now());\n",
              "    root._bokeh_is_loading = js_urls.length;\n",
              "    for (var i = 0; i < js_urls.length; i++) {\n",
              "      var url = js_urls[i];\n",
              "      var s = document.createElement('script');\n",
              "      s.src = url;\n",
              "      s.async = false;\n",
              "      s.onreadystatechange = s.onload = function() {\n",
              "        root._bokeh_is_loading--;\n",
              "        if (root._bokeh_is_loading === 0) {\n",
              "          console.log(\"Bokeh: all BokehJS libraries loaded\");\n",
              "          run_callbacks()\n",
              "        }\n",
              "      };\n",
              "      s.onerror = function() {\n",
              "        console.warn(\"failed to load library \" + url);\n",
              "      };\n",
              "      console.log(\"Bokeh: injecting script tag for BokehJS library: \", url);\n",
              "      document.getElementsByTagName(\"head\")[0].appendChild(s);\n",
              "    }\n",
              "  };\n",
              "\n",
              "  var js_urls = [\"https://cdn.pydata.org/bokeh/release/bokeh-1.0.4.min.js\", \"https://cdn.pydata.org/bokeh/release/bokeh-widgets-1.0.4.min.js\", \"https://cdn.pydata.org/bokeh/release/bokeh-tables-1.0.4.min.js\", \"https://cdn.pydata.org/bokeh/release/bokeh-gl-1.0.4.min.js\"];\n",
              "\n",
              "  var inline_js = [\n",
              "    function(Bokeh) {\n",
              "      Bokeh.set_log_level(\"info\");\n",
              "    },\n",
              "    \n",
              "    function(Bokeh) {\n",
              "      \n",
              "    },\n",
              "    function(Bokeh) {\n",
              "      console.log(\"Bokeh: injecting CSS: https://cdn.pydata.org/bokeh/release/bokeh-1.0.4.min.css\");\n",
              "      Bokeh.embed.inject_css(\"https://cdn.pydata.org/bokeh/release/bokeh-1.0.4.min.css\");\n",
              "      console.log(\"Bokeh: injecting CSS: https://cdn.pydata.org/bokeh/release/bokeh-widgets-1.0.4.min.css\");\n",
              "      Bokeh.embed.inject_css(\"https://cdn.pydata.org/bokeh/release/bokeh-widgets-1.0.4.min.css\");\n",
              "      console.log(\"Bokeh: injecting CSS: https://cdn.pydata.org/bokeh/release/bokeh-tables-1.0.4.min.css\");\n",
              "      Bokeh.embed.inject_css(\"https://cdn.pydata.org/bokeh/release/bokeh-tables-1.0.4.min.css\");\n",
              "    }\n",
              "  ];\n",
              "\n",
              "  function run_inline_js() {\n",
              "    \n",
              "    if ((root.Bokeh !== undefined) || (force === true)) {\n",
              "      for (var i = 0; i < inline_js.length; i++) {\n",
              "        inline_js[i].call(root, root.Bokeh);\n",
              "      }} else if (Date.now() < root._bokeh_timeout) {\n",
              "      setTimeout(run_inline_js, 100);\n",
              "    } else if (!root._bokeh_failed_load) {\n",
              "      console.log(\"Bokeh: BokehJS failed to load within specified timeout.\");\n",
              "      root._bokeh_failed_load = true;\n",
              "    } else if (force !== true) {\n",
              "      var cell = $(document.getElementById(null)).parents('.cell').data().cell;\n",
              "      cell.output_area.append_execute_result(NB_LOAD_WARNING)\n",
              "    }\n",
              "\n",
              "  }\n",
              "\n",
              "  if (root._bokeh_is_loading === 0) {\n",
              "    console.log(\"Bokeh: BokehJS loaded, going straight to plotting\");\n",
              "    run_inline_js();\n",
              "  } else {\n",
              "    load_libs(js_urls, function() {\n",
              "      console.log(\"Bokeh: BokehJS plotting callback run at\", now());\n",
              "      run_inline_js();\n",
              "    });\n",
              "  }\n",
              "}(window));"
            ],
            "application/vnd.bokehjs_load.v0+json": "\n(function(root) {\n  function now() {\n    return new Date();\n  }\n\n  var force = true;\n\n  if (typeof (root._bokeh_onload_callbacks) === \"undefined\" || force === true) {\n    root._bokeh_onload_callbacks = [];\n    root._bokeh_is_loading = undefined;\n  }\n\n  \n\n  \n  if (typeof (root._bokeh_timeout) === \"undefined\" || force === true) {\n    root._bokeh_timeout = Date.now() + 5000;\n    root._bokeh_failed_load = false;\n  }\n\n  var NB_LOAD_WARNING = {'data': {'text/html':\n     \"<div style='background-color: #fdd'>\\n\"+\n     \"<p>\\n\"+\n     \"BokehJS does not appear to have successfully loaded. If loading BokehJS from CDN, this \\n\"+\n     \"may be due to a slow or bad network connection. Possible fixes:\\n\"+\n     \"</p>\\n\"+\n     \"<ul>\\n\"+\n     \"<li>re-rerun `output_notebook()` to attempt to load from CDN again, or</li>\\n\"+\n     \"<li>use INLINE resources instead, as so:</li>\\n\"+\n     \"</ul>\\n\"+\n     \"<code>\\n\"+\n     \"from bokeh.resources import INLINE\\n\"+\n     \"output_notebook(resources=INLINE)\\n\"+\n     \"</code>\\n\"+\n     \"</div>\"}};\n\n  function display_loaded() {\n    var el = document.getElementById(null);\n    if (el != null) {\n      el.textContent = \"BokehJS is loading...\";\n    }\n    if (root.Bokeh !== undefined) {\n      if (el != null) {\n        el.textContent = \"BokehJS \" + root.Bokeh.version + \" successfully loaded.\";\n      }\n    } else if (Date.now() < root._bokeh_timeout) {\n      setTimeout(display_loaded, 100)\n    }\n  }\n\n\n  function run_callbacks() {\n    try {\n      root._bokeh_onload_callbacks.forEach(function(callback) { callback() });\n    }\n    finally {\n      delete root._bokeh_onload_callbacks\n    }\n    console.info(\"Bokeh: all callbacks have finished\");\n  }\n\n  function load_libs(js_urls, callback) {\n    root._bokeh_onload_callbacks.push(callback);\n    if (root._bokeh_is_loading > 0) {\n      console.log(\"Bokeh: BokehJS is being loaded, scheduling callback at\", now());\n      return null;\n    }\n    if (js_urls == null || js_urls.length === 0) {\n      run_callbacks();\n      return null;\n    }\n    console.log(\"Bokeh: BokehJS not loaded, scheduling load and callback at\", now());\n    root._bokeh_is_loading = js_urls.length;\n    for (var i = 0; i < js_urls.length; i++) {\n      var url = js_urls[i];\n      var s = document.createElement('script');\n      s.src = url;\n      s.async = false;\n      s.onreadystatechange = s.onload = function() {\n        root._bokeh_is_loading--;\n        if (root._bokeh_is_loading === 0) {\n          console.log(\"Bokeh: all BokehJS libraries loaded\");\n          run_callbacks()\n        }\n      };\n      s.onerror = function() {\n        console.warn(\"failed to load library \" + url);\n      };\n      console.log(\"Bokeh: injecting script tag for BokehJS library: \", url);\n      document.getElementsByTagName(\"head\")[0].appendChild(s);\n    }\n  };\n\n  var js_urls = [\"https://cdn.pydata.org/bokeh/release/bokeh-1.0.4.min.js\", \"https://cdn.pydata.org/bokeh/release/bokeh-widgets-1.0.4.min.js\", \"https://cdn.pydata.org/bokeh/release/bokeh-tables-1.0.4.min.js\", \"https://cdn.pydata.org/bokeh/release/bokeh-gl-1.0.4.min.js\"];\n\n  var inline_js = [\n    function(Bokeh) {\n      Bokeh.set_log_level(\"info\");\n    },\n    \n    function(Bokeh) {\n      \n    },\n    function(Bokeh) {\n      console.log(\"Bokeh: injecting CSS: https://cdn.pydata.org/bokeh/release/bokeh-1.0.4.min.css\");\n      Bokeh.embed.inject_css(\"https://cdn.pydata.org/bokeh/release/bokeh-1.0.4.min.css\");\n      console.log(\"Bokeh: injecting CSS: https://cdn.pydata.org/bokeh/release/bokeh-widgets-1.0.4.min.css\");\n      Bokeh.embed.inject_css(\"https://cdn.pydata.org/bokeh/release/bokeh-widgets-1.0.4.min.css\");\n      console.log(\"Bokeh: injecting CSS: https://cdn.pydata.org/bokeh/release/bokeh-tables-1.0.4.min.css\");\n      Bokeh.embed.inject_css(\"https://cdn.pydata.org/bokeh/release/bokeh-tables-1.0.4.min.css\");\n    }\n  ];\n\n  function run_inline_js() {\n    \n    if ((root.Bokeh !== undefined) || (force === true)) {\n      for (var i = 0; i < inline_js.length; i++) {\n        inline_js[i].call(root, root.Bokeh);\n      }} else if (Date.now() < root._bokeh_timeout) {\n      setTimeout(run_inline_js, 100);\n    } else if (!root._bokeh_failed_load) {\n      console.log(\"Bokeh: BokehJS failed to load within specified timeout.\");\n      root._bokeh_failed_load = true;\n    } else if (force !== true) {\n      var cell = $(document.getElementById(null)).parents('.cell').data().cell;\n      cell.output_area.append_execute_result(NB_LOAD_WARNING)\n    }\n\n  }\n\n  if (root._bokeh_is_loading === 0) {\n    console.log(\"Bokeh: BokehJS loaded, going straight to plotting\");\n    run_inline_js();\n  } else {\n    load_libs(js_urls, function() {\n      console.log(\"Bokeh: BokehJS plotting callback run at\", now());\n      run_inline_js();\n    });\n  }\n}(window));"
          },
          "metadata": {
            "tags": []
          }
        },
        {
          "output_type": "display_data",
          "data": {
            "text/html": [
              "\n",
              "\n",
              "\n",
              "\n",
              "\n",
              "\n",
              "  <div class=\"bk-root\" id=\"d1bcddac-eb39-4585-ada9-51c7dc29ef2e\" data-root-id=\"1245\"></div>\n"
            ]
          },
          "metadata": {
            "tags": []
          }
        },
        {
          "output_type": "display_data",
          "data": {
            "application/javascript": [
              "(function(root) {\n",
              "  function embed_document(root) {\n",
              "    \n",
              "  var docs_json = {\"09e3e4dd-5c5f-41f8-b9ea-28769e59d11b\":{\"roots\":{\"references\":[{\"attributes\":{\"background_fill_color\":{\"value\":\"whitesmoke\"},\"below\":[{\"id\":\"1255\",\"type\":\"LinearAxis\"}],\"left\":[{\"id\":\"1260\",\"type\":\"LinearAxis\"}],\"plot_height\":500,\"plot_width\":500,\"renderers\":[{\"id\":\"1255\",\"type\":\"LinearAxis\"},{\"id\":\"1259\",\"type\":\"Grid\"},{\"id\":\"1260\",\"type\":\"LinearAxis\"},{\"id\":\"1264\",\"type\":\"Grid\"},{\"id\":\"1273\",\"type\":\"BoxAnnotation\"},{\"id\":\"1283\",\"type\":\"GlyphRenderer\"},{\"id\":\"1298\",\"type\":\"Legend\"},{\"id\":\"1288\",\"type\":\"GlyphRenderer\"}],\"title\":{\"id\":\"1244\",\"type\":\"Title\"},\"toolbar\":{\"id\":\"1271\",\"type\":\"Toolbar\"},\"toolbar_location\":null,\"x_range\":{\"id\":\"1247\",\"type\":\"DataRange1d\"},\"x_scale\":{\"id\":\"1251\",\"type\":\"LinearScale\"},\"y_range\":{\"id\":\"1249\",\"type\":\"DataRange1d\"},\"y_scale\":{\"id\":\"1253\",\"type\":\"LinearScale\"}},\"id\":\"1245\",\"subtype\":\"Figure\",\"type\":\"Plot\"},{\"attributes\":{\"callback\":null},\"id\":\"1247\",\"type\":\"DataRange1d\"},{\"attributes\":{\"overlay\":{\"id\":\"1273\",\"type\":\"BoxAnnotation\"}},\"id\":\"1267\",\"type\":\"BoxZoomTool\"},{\"attributes\":{\"source\":{\"id\":\"1243\",\"type\":\"ColumnDataSource\"}},\"id\":\"1284\",\"type\":\"CDSView\"},{\"attributes\":{},\"id\":\"1266\",\"type\":\"WheelZoomTool\"},{\"attributes\":{},\"id\":\"1295\",\"type\":\"UnionRenderers\"},{\"attributes\":{\"axis_label\":\"True Positive Rate\",\"axis_label_text_font_size\":{\"value\":\"14px\"},\"axis_line_color\":{\"value\":null},\"formatter\":{\"id\":\"1294\",\"type\":\"BasicTickFormatter\"},\"major_label_text_font_size\":{\"value\":\"12px\"},\"major_tick_line_color\":{\"value\":null},\"minor_tick_line_color\":{\"value\":null},\"plot\":{\"id\":\"1245\",\"subtype\":\"Figure\",\"type\":\"Plot\"},\"ticker\":{\"id\":\"1261\",\"type\":\"BasicTicker\"}},\"id\":\"1260\",\"type\":\"LinearAxis\"},{\"attributes\":{\"axis_label\":\"False Positive Rate\",\"axis_label_text_font_size\":{\"value\":\"14px\"},\"formatter\":{\"id\":\"1292\",\"type\":\"BasicTickFormatter\"},\"major_label_text_font_size\":{\"value\":\"12px\"},\"minor_tick_line_color\":{\"value\":null},\"plot\":{\"id\":\"1245\",\"subtype\":\"Figure\",\"type\":\"Plot\"},\"ticker\":{\"id\":\"1256\",\"type\":\"BasicTicker\"}},\"id\":\"1255\",\"type\":\"LinearAxis\"},{\"attributes\":{\"label\":{\"value\":\"AUC = 0.9652\"},\"renderers\":[{\"id\":\"1288\",\"type\":\"GlyphRenderer\"}]},\"id\":\"1299\",\"type\":\"LegendItem\"},{\"attributes\":{},\"id\":\"1296\",\"type\":\"Selection\"},{\"attributes\":{\"grid_line_color\":{\"value\":null},\"plot\":{\"id\":\"1245\",\"subtype\":\"Figure\",\"type\":\"Plot\"},\"ticker\":{\"id\":\"1256\",\"type\":\"BasicTicker\"}},\"id\":\"1259\",\"type\":\"Grid\"},{\"attributes\":{\"source\":{\"id\":\"1243\",\"type\":\"ColumnDataSource\"}},\"id\":\"1289\",\"type\":\"CDSView\"},{\"attributes\":{},\"id\":\"1292\",\"type\":\"BasicTickFormatter\"},{\"attributes\":{\"align\":\"center\",\"plot\":null,\"text\":\"Receiver Operating Characteristic\",\"text_font_size\":{\"value\":\"18px\"}},\"id\":\"1244\",\"type\":\"Title\"},{\"attributes\":{},\"id\":\"1270\",\"type\":\"HelpTool\"},{\"attributes\":{},\"id\":\"1253\",\"type\":\"LinearScale\"},{\"attributes\":{\"active_drag\":\"auto\",\"active_inspect\":\"auto\",\"active_multi\":null,\"active_scroll\":\"auto\",\"active_tap\":\"auto\",\"tools\":[{\"id\":\"1265\",\"type\":\"PanTool\"},{\"id\":\"1266\",\"type\":\"WheelZoomTool\"},{\"id\":\"1267\",\"type\":\"BoxZoomTool\"},{\"id\":\"1268\",\"type\":\"SaveTool\"},{\"id\":\"1269\",\"type\":\"ResetTool\"},{\"id\":\"1270\",\"type\":\"HelpTool\"},{\"id\":\"1300\",\"type\":\"HoverTool\"}]},\"id\":\"1271\",\"type\":\"Toolbar\"},{\"attributes\":{\"line_color\":\"#fb8072\",\"line_dash\":[6],\"line_width\":2,\"x\":{\"field\":\"x\"},\"y\":{\"field\":\"y\"}},\"id\":\"1281\",\"type\":\"Line\"},{\"attributes\":{\"line_color\":\"#80b1d3\",\"line_width\":2,\"x\":{\"field\":\"fpr\"},\"y\":{\"field\":\"tpr\"}},\"id\":\"1286\",\"type\":\"Line\"},{\"attributes\":{},\"id\":\"1265\",\"type\":\"PanTool\"},{\"attributes\":{},\"id\":\"1268\",\"type\":\"SaveTool\"},{\"attributes\":{\"line_alpha\":0.1,\"line_color\":\"#1f77b4\",\"line_width\":2,\"x\":{\"field\":\"fpr\"},\"y\":{\"field\":\"tpr\"}},\"id\":\"1287\",\"type\":\"Line\"},{\"attributes\":{},\"id\":\"1256\",\"type\":\"BasicTicker\"},{\"attributes\":{},\"id\":\"1294\",\"type\":\"BasicTickFormatter\"},{\"attributes\":{\"callback\":null},\"id\":\"1249\",\"type\":\"DataRange1d\"},{\"attributes\":{},\"id\":\"1251\",\"type\":\"LinearScale\"},{\"attributes\":{\"data_source\":{\"id\":\"1243\",\"type\":\"ColumnDataSource\"},\"glyph\":{\"id\":\"1281\",\"type\":\"Line\"},\"hover_glyph\":null,\"muted_glyph\":null,\"nonselection_glyph\":{\"id\":\"1282\",\"type\":\"Line\"},\"selection_glyph\":null,\"view\":{\"id\":\"1284\",\"type\":\"CDSView\"}},\"id\":\"1283\",\"type\":\"GlyphRenderer\"},{\"attributes\":{\"data_source\":{\"id\":\"1243\",\"type\":\"ColumnDataSource\"},\"glyph\":{\"id\":\"1286\",\"type\":\"Line\"},\"hover_glyph\":null,\"muted_glyph\":null,\"nonselection_glyph\":{\"id\":\"1287\",\"type\":\"Line\"},\"selection_glyph\":null,\"view\":{\"id\":\"1289\",\"type\":\"CDSView\"}},\"id\":\"1288\",\"type\":\"GlyphRenderer\"},{\"attributes\":{\"line_alpha\":0.1,\"line_color\":\"#1f77b4\",\"line_dash\":[6],\"line_width\":2,\"x\":{\"field\":\"x\"},\"y\":{\"field\":\"y\"}},\"id\":\"1282\",\"type\":\"Line\"},{\"attributes\":{},\"id\":\"1269\",\"type\":\"ResetTool\"},{\"attributes\":{\"items\":[{\"id\":\"1299\",\"type\":\"LegendItem\"}],\"location\":\"bottom_right\",\"plot\":{\"id\":\"1245\",\"subtype\":\"Figure\",\"type\":\"Plot\"}},\"id\":\"1298\",\"type\":\"Legend\"},{\"attributes\":{\"callback\":null,\"mode\":\"vline\",\"renderers\":[{\"id\":\"1288\",\"type\":\"GlyphRenderer\"}],\"tooltips\":[[\"False-Pos\",\"@fpr{00.0%}\"],[\"True-Pos\",\"@tpr{00.0%}\"]]},\"id\":\"1300\",\"type\":\"HoverTool\"},{\"attributes\":{\"bottom_units\":\"screen\",\"fill_alpha\":{\"value\":0.5},\"fill_color\":{\"value\":\"lightgrey\"},\"left_units\":\"screen\",\"level\":\"overlay\",\"line_alpha\":{\"value\":1.0},\"line_color\":{\"value\":\"black\"},\"line_dash\":[4,4],\"line_width\":{\"value\":2},\"plot\":null,\"render_mode\":\"css\",\"right_units\":\"screen\",\"top_units\":\"screen\"},\"id\":\"1273\",\"type\":\"BoxAnnotation\"},{\"attributes\":{},\"id\":\"1261\",\"type\":\"BasicTicker\"},{\"attributes\":{\"dimension\":1,\"grid_line_color\":{\"value\":null},\"plot\":{\"id\":\"1245\",\"subtype\":\"Figure\",\"type\":\"Plot\"},\"ticker\":{\"id\":\"1261\",\"type\":\"BasicTicker\"}},\"id\":\"1264\",\"type\":\"Grid\"},{\"attributes\":{\"callback\":null,\"data\":{\"fpr\":{\"__ndarray__\":\"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\",\"dtype\":\"float64\",\"shape\":[292]},\"tpr\":{\"__ndarray__\":\"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\",\"dtype\":\"float64\",\"shape\":[292]},\"x\":{\"__ndarray__\":\"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\",\"dtype\":\"float64\",\"shape\":[292]},\"y\":{\"__ndarray__\":\"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\",\"dtype\":\"float64\",\"shape\":[292]}},\"selected\":{\"id\":\"1296\",\"type\":\"Selection\"},\"selection_policy\":{\"id\":\"1295\",\"type\":\"UnionRenderers\"}},\"id\":\"1243\",\"type\":\"ColumnDataSource\"}],\"root_ids\":[\"1245\"]},\"title\":\"Bokeh Application\",\"version\":\"1.0.4\"}};\n",
              "  var render_items = [{\"docid\":\"09e3e4dd-5c5f-41f8-b9ea-28769e59d11b\",\"roots\":{\"1245\":\"d1bcddac-eb39-4585-ada9-51c7dc29ef2e\"}}];\n",
              "  root.Bokeh.embed.embed_items_notebook(docs_json, render_items);\n",
              "\n",
              "  }\n",
              "  if (root.Bokeh !== undefined) {\n",
              "    embed_document(root);\n",
              "  } else {\n",
              "    var attempts = 0;\n",
              "    var timer = setInterval(function(root) {\n",
              "      if (root.Bokeh !== undefined) {\n",
              "        embed_document(root);\n",
              "        clearInterval(timer);\n",
              "      }\n",
              "      attempts++;\n",
              "      if (attempts > 100) {\n",
              "        console.log(\"Bokeh: ERROR: Unable to run BokehJS code because BokehJS library is missing\");\n",
              "        clearInterval(timer);\n",
              "      }\n",
              "    }, 10, root)\n",
              "  }\n",
              "})(window);"
            ],
            "application/vnd.bokehjs_exec.v0+json": ""
          },
          "metadata": {
            "tags": [],
            "application/vnd.bokehjs_exec.v0+json": {
              "id": "1245"
            }
          }
        }
      ]
    },
    {
      "cell_type": "markdown",
      "metadata": {
        "id": "qDaItOLs1WiB",
        "colab_type": "text"
      },
      "source": [
        "## Model Performance"
      ]
    },
    {
      "cell_type": "code",
      "metadata": {
        "id": "fW1sm7Zg1Y_n",
        "colab_type": "code",
        "colab": {
          "base_uri": "https://localhost:8080/",
          "height": 35
        },
        "outputId": "4fe9bbd7-11d2-43dc-8446-d5bf8599f3c3"
      },
      "source": [
        "temp_df = error_df[error_df['true'] == 0]\n",
        "threshold = temp_df['error'].mean() + temp_df['error'].std()\n",
        "\n",
        "print(f'Threshold: {threshold:.3f}')"
      ],
      "execution_count": 61,
      "outputs": [
        {
          "output_type": "stream",
          "text": [
            "Threshold: 1.359\n"
          ],
          "name": "stdout"
        }
      ]
    },
    {
      "cell_type": "code",
      "metadata": {
        "id": "4J_3XZUE1lEO",
        "colab_type": "code",
        "colab": {
          "base_uri": "https://localhost:8080/",
          "height": 179
        },
        "outputId": "b2401aa8-baf2-4ad4-f6ed-6e158d682e66"
      },
      "source": [
        "y_pred = [1 if e > threshold else 0 for e in error_df.error.values]\n",
        "\n",
        "print(classification_report(error_df.true.values, y_pred))"
      ],
      "execution_count": 62,
      "outputs": [
        {
          "output_type": "stream",
          "text": [
            "              precision    recall  f1-score   support\n",
            "\n",
            "           0       1.00      0.99      0.99     56864\n",
            "           1       0.09      0.83      0.17        98\n",
            "\n",
            "    accuracy                           0.99     56962\n",
            "   macro avg       0.55      0.91      0.58     56962\n",
            "weighted avg       1.00      0.99      0.99     56962\n",
            "\n"
          ],
          "name": "stdout"
        }
      ]
    },
    {
      "cell_type": "code",
      "metadata": {
        "id": "mlWq0HU01r-u",
        "colab_type": "code",
        "colab": {
          "base_uri": "https://localhost:8080/",
          "height": 632
        },
        "outputId": "02af90d8-c99c-4d97-f932-60d1e90f4ff5"
      },
      "source": [
        "conf_matrix = confusion_matrix(error_df.true, y_pred)\n",
        "\n",
        "sns.set(font_scale = 1.2)\n",
        "plt.figure(figsize=(10, 10))\n",
        "sns.heatmap(conf_matrix, xticklabels=['Not Fraud','Fraud'], yticklabels=['Not Fraud','Fraud'], annot=True, fmt=\"d\");\n",
        "plt.title(\"Confusion matrix\")\n",
        "plt.ylabel('True class')\n",
        "plt.xlabel('Predicted class')\n",
        "plt.show()"
      ],
      "execution_count": 63,
      "outputs": [
        {
          "output_type": "display_data",
          "data": {
            "image/png": "[encoded data removed]",
            "text/plain": [
              "<Figure size 720x720 with 2 Axes>"
            ]
          },
          "metadata": {
            "tags": []
          }
        }
      ]
    },
    {
      "cell_type": "code",
      "metadata": {
        "id": "GjBPXdxI1yS3",
        "colab_type": "code",
        "colab": {
          "base_uri": "https://localhost:8080/",
          "height": 864
        },
        "outputId": "f9e475be-27aa-4100-b998-e61f91b50d9a"
      },
      "source": [
        "plt.figure(figsize=(12, 12))\n",
        "m = []\n",
        "for thresh in np.linspace(0.2,2,9):\n",
        "    y_pred = [1 if e > thresh else 0 for e in error_df.error.values]\n",
        "    conf_matrix = confusion_matrix(error_df.true, y_pred)\n",
        "    m.append((conf_matrix,thresh))\n",
        "    \n",
        "count = 0\n",
        "for i in range(3):\n",
        "    for j in range(3):\n",
        "        plt.subplot2grid((3, 3), (i, j))\n",
        "        sns.heatmap(m[count][0], xticklabels=['Not Fraud','Fraud'], yticklabels=['Not Fraud','Fraud'], annot=True, fmt=\"d\");\n",
        "        plt.title(f\"Threshold - {m[count][1]:.3f}\")\n",
        "        plt.ylabel('True class')\n",
        "        plt.xlabel('Predicted class')\n",
        "        plt.tight_layout()\n",
        "        count += 1\n",
        "plt.show()"
      ],
      "execution_count": 64,
      "outputs": [
        {
          "output_type": "display_data",
          "data": {
            "image/png": "[encoded data removed]",
            "text/plain": [
              "<Figure size 864x864 with 18 Axes>"
            ]
          },
          "metadata": {
            "tags": []
          }
        }
      ]
    },
    {
      "cell_type": "code",
      "metadata": {
        "id": "OAC37EIl1ym3",
        "colab_type": "code",
        "colab": {
          "base_uri": "https://localhost:8080/",
          "height": 341
        },
        "outputId": "7e59a0dd-2dab-48bb-d7b7-769ed608741c"
      },
      "source": [
        "thr = []\n",
        "tp = []\n",
        "fn = []\n",
        "fp = []\n",
        "tn = []\n",
        "for thresh in np.linspace(0.2,3,200):\n",
        "    y_pred = [1 if e > thresh else 0 for e in error_df.error.values]\n",
        "    conf = confusion_matrix(error_df.true, y_pred)\n",
        "    tp.append(conf[0][0])\n",
        "    fp.append(conf[0][1])\n",
        "    fn.append(conf[1][0])\n",
        "    tn.append(conf[1][1])\n",
        "    thr.append(thresh)\n",
        "\n",
        "conf_df = pd.DataFrame(data = {'fp':fp,'fn':fn,'threshold':thr})\n",
        "cdf = conf_df.drop_duplicates(subset='fn',keep='last')\n",
        "print(cdf)"
      ],
      "execution_count": 66,
      "outputs": [
        {
          "output_type": "stream",
          "text": [
            "        fp  fn  threshold\n",
            "3    22838   2   0.242211\n",
            "4    21073   3   0.256281\n",
            "6    17970   4   0.284422\n",
            "9    14228   5   0.326633\n",
            "17    8186   7   0.439196\n",
            "22    6133   8   0.509548\n",
            "28    4515   9   0.593970\n",
            "55    1460  10   0.973869\n",
            "59    1303  11   1.030151\n",
            "62    1202  13   1.072362\n",
            "64    1142  14   1.100503\n",
            "65    1101  15   1.114573\n",
            "75     878  16   1.255276\n",
            "138    403  17   2.141709\n",
            "169    308  18   2.577889\n",
            "171    305  19   2.606030\n",
            "199    244  20   3.000000\n"
          ],
          "name": "stdout"
        }
      ]
    },
    {
      "cell_type": "code",
      "metadata": {
        "id": "wQkleP7111MH",
        "colab_type": "code",
        "colab": {
          "base_uri": "https://localhost:8080/",
          "height": 617
        },
        "outputId": "3e401e73-4cae-4f79-94c1-ad19d2b9c701"
      },
      "source": [
        "xx = [str(x) for x in cdf['fn'].values]\n",
        "source = ColumnDataSource(data=dict(\n",
        "    fn = xx,\n",
        "    fp = cdf['fp'].values,\n",
        "))\n",
        "\n",
        "p = figure(plot_width = 800,\n",
        "           toolbar_location = None, x_range = xx,\n",
        "           title = \"False Negative vs False Positive\")\n",
        "\n",
        "p.vbar(x = \"fn\", top = \"fp\", width = 0.9,\n",
        "           color=Set3_12[3],  \n",
        "           source=source)\n",
        "\n",
        "p = format_plot(p, 'False Negatives', 'False Positive')\n",
        "\n",
        "show(p);"
      ],
      "execution_count": 67,
      "outputs": [
        {
          "output_type": "display_data",
          "data": {
            "application/javascript": [
              "\n",
              "(function(root) {\n",
              "  function now() {\n",
              "    return new Date();\n",
              "  }\n",
              "\n",
              "  var force = true;\n",
              "\n",
              "  if (typeof (root._bokeh_onload_callbacks) === \"undefined\" || force === true) {\n",
              "    root._bokeh_onload_callbacks = [];\n",
              "    root._bokeh_is_loading = undefined;\n",
              "  }\n",
              "\n",
              "  var JS_MIME_TYPE = 'application/javascript';\n",
              "  var HTML_MIME_TYPE = 'text/html';\n",
              "  var EXEC_MIME_TYPE = 'application/vnd.bokehjs_exec.v0+json';\n",
              "  var CLASS_NAME = 'output_bokeh rendered_html';\n",
              "\n",
              "  /**\n",
              "   * Render data to the DOM node\n",
              "   */\n",
              "  function render(props, node) {\n",
              "    var script = document.createElement(\"script\");\n",
              "    node.appendChild(script);\n",
              "  }\n",
              "\n",
              "  /**\n",
              "   * Handle when an output is cleared or removed\n",
              "   */\n",
              "  function handleClearOutput(event, handle) {\n",
              "    var cell = handle.cell;\n",
              "\n",
              "    var id = cell.output_area._bokeh_element_id;\n",
              "    var server_id = cell.output_area._bokeh_server_id;\n",
              "    // Clean up Bokeh references\n",
              "    if (id != null && id in Bokeh.index) {\n",
              "      Bokeh.index[id].model.document.clear();\n",
              "      delete Bokeh.index[id];\n",
              "    }\n",
              "\n",
              "    if (server_id !== undefined) {\n",
              "      // Clean up Bokeh references\n",
              "      var cmd = \"from bokeh.io.state import curstate; print(curstate().uuid_to_server['\" + server_id + \"'].get_sessions()[0].document.roots[0]._id)\";\n",
              "      cell.notebook.kernel.execute(cmd, {\n",
              "        iopub: {\n",
              "          output: function(msg) {\n",
              "            var id = msg.content.text.trim();\n",
              "            if (id in Bokeh.index) {\n",
              "              Bokeh.index[id].model.document.clear();\n",
              "              delete Bokeh.index[id];\n",
              "            }\n",
              "          }\n",
              "        }\n",
              "      });\n",
              "      // Destroy server and session\n",
              "      var cmd = \"import bokeh.io.notebook as ion; ion.destroy_server('\" + server_id + \"')\";\n",
              "      cell.notebook.kernel.execute(cmd);\n",
              "    }\n",
              "  }\n",
              "\n",
              "  /**\n",
              "   * Handle when a new output is added\n",
              "   */\n",
              "  function handleAddOutput(event, handle) {\n",
              "    var output_area = handle.output_area;\n",
              "    var output = handle.output;\n",
              "\n",
              "    // limit handleAddOutput to display_data with EXEC_MIME_TYPE content only\n",
              "    if ((output.output_type != \"display_data\") || (!output.data.hasOwnProperty(EXEC_MIME_TYPE))) {\n",
              "      return\n",
              "    }\n",
              "\n",
              "    var toinsert = output_area.element.find(\".\" + CLASS_NAME.split(' ')[0]);\n",
              "\n",
              "    if (output.metadata[EXEC_MIME_TYPE][\"id\"] !== undefined) {\n",
              "      toinsert[toinsert.length - 1].firstChild.textContent = output.data[JS_MIME_TYPE];\n",
              "      // store reference to embed id on output_area\n",
              "      output_area._bokeh_element_id = output.metadata[EXEC_MIME_TYPE][\"id\"];\n",
              "    }\n",
              "    if (output.metadata[EXEC_MIME_TYPE][\"server_id\"] !== undefined) {\n",
              "      var bk_div = document.createElement(\"div\");\n",
              "      bk_div.innerHTML = output.data[HTML_MIME_TYPE];\n",
              "      var script_attrs = bk_div.children[0].attributes;\n",
              "      for (var i = 0; i < script_attrs.length; i++) {\n",
              "        toinsert[toinsert.length - 1].firstChild.setAttribute(script_attrs[i].name, script_attrs[i].value);\n",
              "      }\n",
              "      // store reference to server id on output_area\n",
              "      output_area._bokeh_server_id = output.metadata[EXEC_MIME_TYPE][\"server_id\"];\n",
              "    }\n",
              "  }\n",
              "\n",
              "  function register_renderer(events, OutputArea) {\n",
              "\n",
              "    function append_mime(data, metadata, element) {\n",
              "      // create a DOM node to render to\n",
              "      var toinsert = this.create_output_subarea(\n",
              "        metadata,\n",
              "        CLASS_NAME,\n",
              "        EXEC_MIME_TYPE\n",
              "      );\n",
              "      this.keyboard_manager.register_events(toinsert);\n",
              "      // Render to node\n",
              "      var props = {data: data, metadata: metadata[EXEC_MIME_TYPE]};\n",
              "      render(props, toinsert[toinsert.length - 1]);\n",
              "      element.append(toinsert);\n",
              "      return toinsert\n",
              "    }\n",
              "\n",
              "    /* Handle when an output is cleared or removed */\n",
              "    events.on('clear_output.CodeCell', handleClearOutput);\n",
              "    events.on('delete.Cell', handleClearOutput);\n",
              "\n",
              "    /* Handle when a new output is added */\n",
              "    events.on('output_added.OutputArea', handleAddOutput);\n",
              "\n",
              "    /**\n",
              "     * Register the mime type and append_mime function with output_area\n",
              "     */\n",
              "    OutputArea.prototype.register_mime_type(EXEC_MIME_TYPE, append_mime, {\n",
              "      /* Is output safe? */\n",
              "      safe: true,\n",
              "      /* Index of renderer in `output_area.display_order` */\n",
              "      index: 0\n",
              "    });\n",
              "  }\n",
              "\n",
              "  // register the mime type if in Jupyter Notebook environment and previously unregistered\n",
              "  if (root.Jupyter !== undefined) {\n",
              "    var events = require('base/js/events');\n",
              "    var OutputArea = require('notebook/js/outputarea').OutputArea;\n",
              "\n",
              "    if (OutputArea.prototype.mime_types().indexOf(EXEC_MIME_TYPE) == -1) {\n",
              "      register_renderer(events, OutputArea);\n",
              "    }\n",
              "  }\n",
              "\n",
              "  \n",
              "  if (typeof (root._bokeh_timeout) === \"undefined\" || force === true) {\n",
              "    root._bokeh_timeout = Date.now() + 5000;\n",
              "    root._bokeh_failed_load = false;\n",
              "  }\n",
              "\n",
              "  var NB_LOAD_WARNING = {'data': {'text/html':\n",
              "     \"<div style='background-color: #fdd'>\\n\"+\n",
              "     \"<p>\\n\"+\n",
              "     \"BokehJS does not appear to have successfully loaded. If loading BokehJS from CDN, this \\n\"+\n",
              "     \"may be due to a slow or bad network connection. Possible fixes:\\n\"+\n",
              "     \"</p>\\n\"+\n",
              "     \"<ul>\\n\"+\n",
              "     \"<li>re-rerun `output_notebook()` to attempt to load from CDN again, or</li>\\n\"+\n",
              "     \"<li>use INLINE resources instead, as so:</li>\\n\"+\n",
              "     \"</ul>\\n\"+\n",
              "     \"<code>\\n\"+\n",
              "     \"from bokeh.resources import INLINE\\n\"+\n",
              "     \"output_notebook(resources=INLINE)\\n\"+\n",
              "     \"</code>\\n\"+\n",
              "     \"</div>\"}};\n",
              "\n",
              "  function display_loaded() {\n",
              "    var el = document.getElementById(null);\n",
              "    if (el != null) {\n",
              "      el.textContent = \"BokehJS is loading...\";\n",
              "    }\n",
              "    if (root.Bokeh !== undefined) {\n",
              "      if (el != null) {\n",
              "        el.textContent = \"BokehJS \" + root.Bokeh.version + \" successfully loaded.\";\n",
              "      }\n",
              "    } else if (Date.now() < root._bokeh_timeout) {\n",
              "      setTimeout(display_loaded, 100)\n",
              "    }\n",
              "  }\n",
              "\n",
              "\n",
              "  function run_callbacks() {\n",
              "    try {\n",
              "      root._bokeh_onload_callbacks.forEach(function(callback) { callback() });\n",
              "    }\n",
              "    finally {\n",
              "      delete root._bokeh_onload_callbacks\n",
              "    }\n",
              "    console.info(\"Bokeh: all callbacks have finished\");\n",
              "  }\n",
              "\n",
              "  function load_libs(js_urls, callback) {\n",
              "    root._bokeh_onload_callbacks.push(callback);\n",
              "    if (root._bokeh_is_loading > 0) {\n",
              "      console.log(\"Bokeh: BokehJS is being loaded, scheduling callback at\", now());\n",
              "      return null;\n",
              "    }\n",
              "    if (js_urls == null || js_urls.length === 0) {\n",
              "      run_callbacks();\n",
              "      return null;\n",
              "    }\n",
              "    console.log(\"Bokeh: BokehJS not loaded, scheduling load and callback at\", now());\n",
              "    root._bokeh_is_loading = js_urls.length;\n",
              "    for (var i = 0; i < js_urls.length; i++) {\n",
              "      var url = js_urls[i];\n",
              "      var s = document.createElement('script');\n",
              "      s.src = url;\n",
              "      s.async = false;\n",
              "      s.onreadystatechange = s.onload = function() {\n",
              "        root._bokeh_is_loading--;\n",
              "        if (root._bokeh_is_loading === 0) {\n",
              "          console.log(\"Bokeh: all BokehJS libraries loaded\");\n",
              "          run_callbacks()\n",
              "        }\n",
              "      };\n",
              "      s.onerror = function() {\n",
              "        console.warn(\"failed to load library \" + url);\n",
              "      };\n",
              "      console.log(\"Bokeh: injecting script tag for BokehJS library: \", url);\n",
              "      document.getElementsByTagName(\"head\")[0].appendChild(s);\n",
              "    }\n",
              "  };\n",
              "\n",
              "  var js_urls = [\"https://cdn.pydata.org/bokeh/release/bokeh-1.0.4.min.js\", \"https://cdn.pydata.org/bokeh/release/bokeh-widgets-1.0.4.min.js\", \"https://cdn.pydata.org/bokeh/release/bokeh-tables-1.0.4.min.js\", \"https://cdn.pydata.org/bokeh/release/bokeh-gl-1.0.4.min.js\"];\n",
              "\n",
              "  var inline_js = [\n",
              "    function(Bokeh) {\n",
              "      Bokeh.set_log_level(\"info\");\n",
              "    },\n",
              "    \n",
              "    function(Bokeh) {\n",
              "      \n",
              "    },\n",
              "    function(Bokeh) {\n",
              "      console.log(\"Bokeh: injecting CSS: https://cdn.pydata.org/bokeh/release/bokeh-1.0.4.min.css\");\n",
              "      Bokeh.embed.inject_css(\"https://cdn.pydata.org/bokeh/release/bokeh-1.0.4.min.css\");\n",
              "      console.log(\"Bokeh: injecting CSS: https://cdn.pydata.org/bokeh/release/bokeh-widgets-1.0.4.min.css\");\n",
              "      Bokeh.embed.inject_css(\"https://cdn.pydata.org/bokeh/release/bokeh-widgets-1.0.4.min.css\");\n",
              "      console.log(\"Bokeh: injecting CSS: https://cdn.pydata.org/bokeh/release/bokeh-tables-1.0.4.min.css\");\n",
              "      Bokeh.embed.inject_css(\"https://cdn.pydata.org/bokeh/release/bokeh-tables-1.0.4.min.css\");\n",
              "    }\n",
              "  ];\n",
              "\n",
              "  function run_inline_js() {\n",
              "    \n",
              "    if ((root.Bokeh !== undefined) || (force === true)) {\n",
              "      for (var i = 0; i < inline_js.length; i++) {\n",
              "        inline_js[i].call(root, root.Bokeh);\n",
              "      }} else if (Date.now() < root._bokeh_timeout) {\n",
              "      setTimeout(run_inline_js, 100);\n",
              "    } else if (!root._bokeh_failed_load) {\n",
              "      console.log(\"Bokeh: BokehJS failed to load within specified timeout.\");\n",
              "      root._bokeh_failed_load = true;\n",
              "    } else if (force !== true) {\n",
              "      var cell = $(document.getElementById(null)).parents('.cell').data().cell;\n",
              "      cell.output_area.append_execute_result(NB_LOAD_WARNING)\n",
              "    }\n",
              "\n",
              "  }\n",
              "\n",
              "  if (root._bokeh_is_loading === 0) {\n",
              "    console.log(\"Bokeh: BokehJS loaded, going straight to plotting\");\n",
              "    run_inline_js();\n",
              "  } else {\n",
              "    load_libs(js_urls, function() {\n",
              "      console.log(\"Bokeh: BokehJS plotting callback run at\", now());\n",
              "      run_inline_js();\n",
              "    });\n",
              "  }\n",
              "}(window));"
            ],
            "application/vnd.bokehjs_load.v0+json": "\n(function(root) {\n  function now() {\n    return new Date();\n  }\n\n  var force = true;\n\n  if (typeof (root._bokeh_onload_callbacks) === \"undefined\" || force === true) {\n    root._bokeh_onload_callbacks = [];\n    root._bokeh_is_loading = undefined;\n  }\n\n  \n\n  \n  if (typeof (root._bokeh_timeout) === \"undefined\" || force === true) {\n    root._bokeh_timeout = Date.now() + 5000;\n    root._bokeh_failed_load = false;\n  }\n\n  var NB_LOAD_WARNING = {'data': {'text/html':\n     \"<div style='background-color: #fdd'>\\n\"+\n     \"<p>\\n\"+\n     \"BokehJS does not appear to have successfully loaded. If loading BokehJS from CDN, this \\n\"+\n     \"may be due to a slow or bad network connection. Possible fixes:\\n\"+\n     \"</p>\\n\"+\n     \"<ul>\\n\"+\n     \"<li>re-rerun `output_notebook()` to attempt to load from CDN again, or</li>\\n\"+\n     \"<li>use INLINE resources instead, as so:</li>\\n\"+\n     \"</ul>\\n\"+\n     \"<code>\\n\"+\n     \"from bokeh.resources import INLINE\\n\"+\n     \"output_notebook(resources=INLINE)\\n\"+\n     \"</code>\\n\"+\n     \"</div>\"}};\n\n  function display_loaded() {\n    var el = document.getElementById(null);\n    if (el != null) {\n      el.textContent = \"BokehJS is loading...\";\n    }\n    if (root.Bokeh !== undefined) {\n      if (el != null) {\n        el.textContent = \"BokehJS \" + root.Bokeh.version + \" successfully loaded.\";\n      }\n    } else if (Date.now() < root._bokeh_timeout) {\n      setTimeout(display_loaded, 100)\n    }\n  }\n\n\n  function run_callbacks() {\n    try {\n      root._bokeh_onload_callbacks.forEach(function(callback) { callback() });\n    }\n    finally {\n      delete root._bokeh_onload_callbacks\n    }\n    console.info(\"Bokeh: all callbacks have finished\");\n  }\n\n  function load_libs(js_urls, callback) {\n    root._bokeh_onload_callbacks.push(callback);\n    if (root._bokeh_is_loading > 0) {\n      console.log(\"Bokeh: BokehJS is being loaded, scheduling callback at\", now());\n      return null;\n    }\n    if (js_urls == null || js_urls.length === 0) {\n      run_callbacks();\n      return null;\n    }\n    console.log(\"Bokeh: BokehJS not loaded, scheduling load and callback at\", now());\n    root._bokeh_is_loading = js_urls.length;\n    for (var i = 0; i < js_urls.length; i++) {\n      var url = js_urls[i];\n      var s = document.createElement('script');\n      s.src = url;\n      s.async = false;\n      s.onreadystatechange = s.onload = function() {\n        root._bokeh_is_loading--;\n        if (root._bokeh_is_loading === 0) {\n          console.log(\"Bokeh: all BokehJS libraries loaded\");\n          run_callbacks()\n        }\n      };\n      s.onerror = function() {\n        console.warn(\"failed to load library \" + url);\n      };\n      console.log(\"Bokeh: injecting script tag for BokehJS library: \", url);\n      document.getElementsByTagName(\"head\")[0].appendChild(s);\n    }\n  };\n\n  var js_urls = [\"https://cdn.pydata.org/bokeh/release/bokeh-1.0.4.min.js\", \"https://cdn.pydata.org/bokeh/release/bokeh-widgets-1.0.4.min.js\", \"https://cdn.pydata.org/bokeh/release/bokeh-tables-1.0.4.min.js\", \"https://cdn.pydata.org/bokeh/release/bokeh-gl-1.0.4.min.js\"];\n\n  var inline_js = [\n    function(Bokeh) {\n      Bokeh.set_log_level(\"info\");\n    },\n    \n    function(Bokeh) {\n      \n    },\n    function(Bokeh) {\n      console.log(\"Bokeh: injecting CSS: https://cdn.pydata.org/bokeh/release/bokeh-1.0.4.min.css\");\n      Bokeh.embed.inject_css(\"https://cdn.pydata.org/bokeh/release/bokeh-1.0.4.min.css\");\n      console.log(\"Bokeh: injecting CSS: https://cdn.pydata.org/bokeh/release/bokeh-widgets-1.0.4.min.css\");\n      Bokeh.embed.inject_css(\"https://cdn.pydata.org/bokeh/release/bokeh-widgets-1.0.4.min.css\");\n      console.log(\"Bokeh: injecting CSS: https://cdn.pydata.org/bokeh/release/bokeh-tables-1.0.4.min.css\");\n      Bokeh.embed.inject_css(\"https://cdn.pydata.org/bokeh/release/bokeh-tables-1.0.4.min.css\");\n    }\n  ];\n\n  function run_inline_js() {\n    \n    if ((root.Bokeh !== undefined) || (force === true)) {\n      for (var i = 0; i < inline_js.length; i++) {\n        inline_js[i].call(root, root.Bokeh);\n      }} else if (Date.now() < root._bokeh_timeout) {\n      setTimeout(run_inline_js, 100);\n    } else if (!root._bokeh_failed_load) {\n      console.log(\"Bokeh: BokehJS failed to load within specified timeout.\");\n      root._bokeh_failed_load = true;\n    } else if (force !== true) {\n      var cell = $(document.getElementById(null)).parents('.cell').data().cell;\n      cell.output_area.append_execute_result(NB_LOAD_WARNING)\n    }\n\n  }\n\n  if (root._bokeh_is_loading === 0) {\n    console.log(\"Bokeh: BokehJS loaded, going straight to plotting\");\n    run_inline_js();\n  } else {\n    load_libs(js_urls, function() {\n      console.log(\"Bokeh: BokehJS plotting callback run at\", now());\n      run_inline_js();\n    });\n  }\n}(window));"
          },
          "metadata": {
            "tags": []
          }
        },
        {
          "output_type": "display_data",
          "data": {
            "text/html": [
              "\n",
              "\n",
              "\n",
              "\n",
              "\n",
              "\n",
              "  <div class=\"bk-root\" id=\"53f8ba39-5617-4337-906e-7a92d2581fda\" data-root-id=\"1369\"></div>\n"
            ]
          },
          "metadata": {
            "tags": []
          }
        },
        {
          "output_type": "display_data",
          "data": {
            "application/javascript": [
              "(function(root) {\n",
              "  function embed_document(root) {\n",
              "    \n",
              "  var docs_json = {\"0a934635-3425-4685-8ef4-9b73b9cb6421\":{\"roots\":{\"references\":[{\"attributes\":{\"background_fill_color\":{\"value\":\"whitesmoke\"},\"below\":[{\"id\":\"1379\",\"type\":\"CategoricalAxis\"}],\"left\":[{\"id\":\"1383\",\"type\":\"LinearAxis\"}],\"plot_width\":800,\"renderers\":[{\"id\":\"1379\",\"type\":\"CategoricalAxis\"},{\"id\":\"1382\",\"type\":\"Grid\"},{\"id\":\"1383\",\"type\":\"LinearAxis\"},{\"id\":\"1387\",\"type\":\"Grid\"},{\"id\":\"1396\",\"type\":\"BoxAnnotation\"},{\"id\":\"1406\",\"type\":\"GlyphRenderer\"}],\"title\":{\"id\":\"1368\",\"type\":\"Title\"},\"toolbar\":{\"id\":\"1394\",\"type\":\"Toolbar\"},\"toolbar_location\":null,\"x_range\":{\"id\":\"1371\",\"type\":\"FactorRange\"},\"x_scale\":{\"id\":\"1375\",\"type\":\"CategoricalScale\"},\"y_range\":{\"id\":\"1373\",\"type\":\"DataRange1d\"},\"y_scale\":{\"id\":\"1377\",\"type\":\"LinearScale\"}},\"id\":\"1369\",\"subtype\":\"Figure\",\"type\":\"Plot\"},{\"attributes\":{\"fill_color\":{\"value\":\"#fb8072\"},\"line_color\":{\"value\":\"#fb8072\"},\"top\":{\"field\":\"fp\"},\"width\":{\"value\":0.9},\"x\":{\"field\":\"fn\"}},\"id\":\"1404\",\"type\":\"VBar\"},{\"attributes\":{\"active_drag\":\"auto\",\"active_inspect\":\"auto\",\"active_multi\":null,\"active_scroll\":\"auto\",\"active_tap\":\"auto\",\"tools\":[{\"id\":\"1388\",\"type\":\"PanTool\"},{\"id\":\"1389\",\"type\":\"WheelZoomTool\"},{\"id\":\"1390\",\"type\":\"BoxZoomTool\"},{\"id\":\"1391\",\"type\":\"SaveTool\"},{\"id\":\"1392\",\"type\":\"ResetTool\"},{\"id\":\"1393\",\"type\":\"HelpTool\"}]},\"id\":\"1394\",\"type\":\"Toolbar\"},{\"attributes\":{},\"id\":\"1388\",\"type\":\"PanTool\"},{\"attributes\":{},\"id\":\"1429\",\"type\":\"BasicTickFormatter\"},{\"attributes\":{},\"id\":\"1384\",\"type\":\"BasicTicker\"},{\"attributes\":{},\"id\":\"1393\",\"type\":\"HelpTool\"},{\"attributes\":{\"callback\":null,\"data\":{\"fn\":[\"2\",\"3\",\"4\",\"5\",\"7\",\"8\",\"9\",\"10\",\"11\",\"13\",\"14\",\"15\",\"16\",\"17\",\"18\",\"19\",\"20\"],\"fp\":[22838,21073,17970,14228,8186,6133,4515,1460,1303,1202,1142,1101,878,403,308,305,244]},\"selected\":{\"id\":\"1431\",\"type\":\"Selection\"},\"selection_policy\":{\"id\":\"1430\",\"type\":\"UnionRenderers\"}},\"id\":\"1367\",\"type\":\"ColumnDataSource\"},{\"attributes\":{\"bottom_units\":\"screen\",\"fill_alpha\":{\"value\":0.5},\"fill_color\":{\"value\":\"lightgrey\"},\"left_units\":\"screen\",\"level\":\"overlay\",\"line_alpha\":{\"value\":1.0},\"line_color\":{\"value\":\"black\"},\"line_dash\":[4,4],\"line_width\":{\"value\":2},\"plot\":null,\"render_mode\":\"css\",\"right_units\":\"screen\",\"top_units\":\"screen\"},\"id\":\"1396\",\"type\":\"BoxAnnotation\"},{\"attributes\":{},\"id\":\"1430\",\"type\":\"UnionRenderers\"},{\"attributes\":{},\"id\":\"1392\",\"type\":\"ResetTool\"},{\"attributes\":{\"callback\":null,\"factors\":[\"2\",\"3\",\"4\",\"5\",\"7\",\"8\",\"9\",\"10\",\"11\",\"13\",\"14\",\"15\",\"16\",\"17\",\"18\",\"19\",\"20\"]},\"id\":\"1371\",\"type\":\"FactorRange\"},{\"attributes\":{\"source\":{\"id\":\"1367\",\"type\":\"ColumnDataSource\"}},\"id\":\"1407\",\"type\":\"CDSView\"},{\"attributes\":{\"dimension\":1,\"grid_line_color\":{\"value\":null},\"plot\":{\"id\":\"1369\",\"subtype\":\"Figure\",\"type\":\"Plot\"},\"ticker\":{\"id\":\"1384\",\"type\":\"BasicTicker\"}},\"id\":\"1387\",\"type\":\"Grid\"},{\"attributes\":{\"callback\":null},\"id\":\"1373\",\"type\":\"DataRange1d\"},{\"attributes\":{\"data_source\":{\"id\":\"1367\",\"type\":\"ColumnDataSource\"},\"glyph\":{\"id\":\"1404\",\"type\":\"VBar\"},\"hover_glyph\":null,\"muted_glyph\":null,\"nonselection_glyph\":{\"id\":\"1405\",\"type\":\"VBar\"},\"selection_glyph\":null,\"view\":{\"id\":\"1407\",\"type\":\"CDSView\"}},\"id\":\"1406\",\"type\":\"GlyphRenderer\"},{\"attributes\":{\"align\":\"center\",\"plot\":null,\"text\":\"False Negative vs False Positive\",\"text_font_size\":{\"value\":\"18px\"}},\"id\":\"1368\",\"type\":\"Title\"},{\"attributes\":{\"axis_label\":\"False Negatives\",\"axis_label_text_font_size\":{\"value\":\"14px\"},\"formatter\":{\"id\":\"1427\",\"type\":\"CategoricalTickFormatter\"},\"major_label_text_font_size\":{\"value\":\"12px\"},\"minor_tick_line_color\":{\"value\":null},\"plot\":{\"id\":\"1369\",\"subtype\":\"Figure\",\"type\":\"Plot\"},\"ticker\":{\"id\":\"1380\",\"type\":\"CategoricalTicker\"}},\"id\":\"1379\",\"type\":\"CategoricalAxis\"},{\"attributes\":{\"grid_line_color\":{\"value\":null},\"plot\":{\"id\":\"1369\",\"subtype\":\"Figure\",\"type\":\"Plot\"},\"ticker\":{\"id\":\"1380\",\"type\":\"CategoricalTicker\"}},\"id\":\"1382\",\"type\":\"Grid\"},{\"attributes\":{},\"id\":\"1391\",\"type\":\"SaveTool\"},{\"attributes\":{\"overlay\":{\"id\":\"1396\",\"type\":\"BoxAnnotation\"}},\"id\":\"1390\",\"type\":\"BoxZoomTool\"},{\"attributes\":{\"fill_alpha\":{\"value\":0.1},\"fill_color\":{\"value\":\"#1f77b4\"},\"line_alpha\":{\"value\":0.1},\"line_color\":{\"value\":\"#1f77b4\"},\"top\":{\"field\":\"fp\"},\"width\":{\"value\":0.9},\"x\":{\"field\":\"fn\"}},\"id\":\"1405\",\"type\":\"VBar\"},{\"attributes\":{},\"id\":\"1431\",\"type\":\"Selection\"},{\"attributes\":{},\"id\":\"1375\",\"type\":\"CategoricalScale\"},{\"attributes\":{},\"id\":\"1427\",\"type\":\"CategoricalTickFormatter\"},{\"attributes\":{},\"id\":\"1389\",\"type\":\"WheelZoomTool\"},{\"attributes\":{},\"id\":\"1380\",\"type\":\"CategoricalTicker\"},{\"attributes\":{\"axis_label\":\"False Positive\",\"axis_label_text_font_size\":{\"value\":\"14px\"},\"axis_line_color\":{\"value\":null},\"formatter\":{\"id\":\"1429\",\"type\":\"BasicTickFormatter\"},\"major_label_text_font_size\":{\"value\":\"12px\"},\"major_tick_line_color\":{\"value\":null},\"minor_tick_line_color\":{\"value\":null},\"plot\":{\"id\":\"1369\",\"subtype\":\"Figure\",\"type\":\"Plot\"},\"ticker\":{\"id\":\"1384\",\"type\":\"BasicTicker\"}},\"id\":\"1383\",\"type\":\"LinearAxis\"},{\"attributes\":{},\"id\":\"1377\",\"type\":\"LinearScale\"}],\"root_ids\":[\"1369\"]},\"title\":\"Bokeh Application\",\"version\":\"1.0.4\"}};\n",
              "  var render_items = [{\"docid\":\"0a934635-3425-4685-8ef4-9b73b9cb6421\",\"roots\":{\"1369\":\"53f8ba39-5617-4337-906e-7a92d2581fda\"}}];\n",
              "  root.Bokeh.embed.embed_items_notebook(docs_json, render_items);\n",
              "\n",
              "  }\n",
              "  if (root.Bokeh !== undefined) {\n",
              "    embed_document(root);\n",
              "  } else {\n",
              "    var attempts = 0;\n",
              "    var timer = setInterval(function(root) {\n",
              "      if (root.Bokeh !== undefined) {\n",
              "        embed_document(root);\n",
              "        clearInterval(timer);\n",
              "      }\n",
              "      attempts++;\n",
              "      if (attempts > 100) {\n",
              "        console.log(\"Bokeh: ERROR: Unable to run BokehJS code because BokehJS library is missing\");\n",
              "        clearInterval(timer);\n",
              "      }\n",
              "    }, 10, root)\n",
              "  }\n",
              "})(window);"
            ],
            "application/vnd.bokehjs_exec.v0+json": ""
          },
          "metadata": {
            "tags": [],
            "application/vnd.bokehjs_exec.v0+json": {
              "id": "1369"
            }
          }
        }
      ]
    },
    {
      "cell_type": "code",
      "metadata": {
        "id": "e1iZqo9R1-UX",
        "colab_type": "code",
        "colab": {}
      },
      "source": [
        ""
      ],
      "execution_count": 0,
      "outputs": []
    }
  ]
}